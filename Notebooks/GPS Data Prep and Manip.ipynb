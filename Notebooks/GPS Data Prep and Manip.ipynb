{
 "cells": [
  {
   "cell_type": "markdown",
   "metadata": {},
   "source": [
    "# GPS Data Prep and Manip\n",
    "Load in the raw data from Steve and manip it into vectors for the K-D tree\n",
    "\n",
    "https://github.com/balarsen/GPSFluxForecast/commit/83073aadd7d2d85977f03e60c95b0f492fd1f0a7\n",
    "\n",
    "Data: initial commit of pre-processed CXD data\n",
    "\n",
    "Data source is the initial public release of CXD data (v1.03)\n",
    "indexed at data.gov. The data are binned in time and McIlwain L\n",
    "and then the slice between L=4.25 and L=4.5 is taken for 3 energies.\n",
    "This file has 0.425MeV, 1MeV and 1.6 MeV. These were the data\n",
    "presented by Morley et al. at the 2016 Fall AGU meeting (abstract\n",
    "archived by NASA ADS with bibcode 2016AGUFMSM23C..07M). The time bin\n",
    "is 8 hours. All available CXD data in each bin have been averaged\n",
    "to obtain the mean flux. No data cleaning was performed prior to the\n",
    "binning/averaging."
   ]
  },
  {
   "cell_type": "code",
   "execution_count": 1,
   "metadata": {},
   "outputs": [],
   "source": [
    "%load_ext version_information"
   ]
  },
  {
   "cell_type": "code",
   "execution_count": 2,
   "metadata": {},
   "outputs": [
    {
     "name": "stdout",
     "output_type": "stream",
     "text": [
      "This unreleased version of SpacePy is not supported by the SpacePy team.\n"
     ]
    },
    {
     "name": "stderr",
     "output_type": "stream",
     "text": [
      "/Users/balarsen/miniconda3/lib/python3.6/site-packages/matplotlib/__init__.py:886: MatplotlibDeprecationWarning: \n",
      "examples.directory is deprecated; in the future, examples will be found relative to the 'datapath' directory.\n",
      "  \"found relative to the 'datapath' directory.\".format(key))\n"
     ]
    },
    {
     "data": {
      "application/json": {
       "Software versions": [
        {
         "module": "Python",
         "version": "3.6.6 64bit [GCC 4.2.1 Compatible Clang 4.0.1 (tags/RELEASE_401/final)]"
        },
        {
         "module": "IPython",
         "version": "7.0.1"
        },
        {
         "module": "OS",
         "version": "Darwin 17.7.0 x86_64 i386 64bit"
        },
        {
         "module": "numpy",
         "version": "1.15.1"
        },
        {
         "module": "matplotlib",
         "version": "3.0.0"
        },
        {
         "module": "version_information",
         "version": "1.0.3"
        },
        {
         "module": "verify",
         "version": "The 'verify' distribution was not found and is required by the application"
        },
        {
         "module": "scipy",
         "version": "1.1.0"
        },
        {
         "module": "sklearn",
         "version": "0.20.0"
        },
        {
         "module": "seaborn",
         "version": "0.9.0"
        },
        {
         "module": "spacepy",
         "version": "UNRELEASED"
        }
       ]
      },
      "text/html": [
       "<table><tr><th>Software</th><th>Version</th></tr><tr><td>Python</td><td>3.6.6 64bit [GCC 4.2.1 Compatible Clang 4.0.1 (tags/RELEASE_401/final)]</td></tr><tr><td>IPython</td><td>7.0.1</td></tr><tr><td>OS</td><td>Darwin 17.7.0 x86_64 i386 64bit</td></tr><tr><td>numpy</td><td>1.15.1</td></tr><tr><td>matplotlib</td><td>3.0.0</td></tr><tr><td>version_information</td><td>1.0.3</td></tr><tr><td>verify</td><td>The 'verify' distribution was not found and is required by the application</td></tr><tr><td>scipy</td><td>1.1.0</td></tr><tr><td>sklearn</td><td>0.20.0</td></tr><tr><td>seaborn</td><td>0.9.0</td></tr><tr><td>spacepy</td><td>UNRELEASED</td></tr><tr><td colspan='2'>Tue Oct 23 19:29:44 2018 MDT</td></tr></table>"
      ],
      "text/latex": [
       "\\begin{tabular}{|l|l|}\\hline\n",
       "{\\bf Software} & {\\bf Version} \\\\ \\hline\\hline\n",
       "Python & 3.6.6 64bit [GCC 4.2.1 Compatible Clang 4.0.1 (tags/RELEASE\\_401/final)] \\\\ \\hline\n",
       "IPython & 7.0.1 \\\\ \\hline\n",
       "OS & Darwin 17.7.0 x86\\_64 i386 64bit \\\\ \\hline\n",
       "numpy & 1.15.1 \\\\ \\hline\n",
       "matplotlib & 3.0.0 \\\\ \\hline\n",
       "version_information & 1.0.3 \\\\ \\hline\n",
       "verify & The 'verify' distribution was not found and is required by the application \\\\ \\hline\n",
       "scipy & 1.1.0 \\\\ \\hline\n",
       "sklearn & 0.20.0 \\\\ \\hline\n",
       "seaborn & 0.9.0 \\\\ \\hline\n",
       "spacepy & UNRELEASED \\\\ \\hline\n",
       "\\hline \\multicolumn{2}{|l|}{Tue Oct 23 19:29:44 2018 MDT} \\\\ \\hline\n",
       "\\end{tabular}\n"
      ],
      "text/plain": [
       "Software versions\n",
       "Python 3.6.6 64bit [GCC 4.2.1 Compatible Clang 4.0.1 (tags/RELEASE_401/final)]\n",
       "IPython 7.0.1\n",
       "OS Darwin 17.7.0 x86_64 i386 64bit\n",
       "numpy 1.15.1\n",
       "matplotlib 3.0.0\n",
       "version_information 1.0.3\n",
       "verify The 'verify' distribution was not found and is required by the application\n",
       "scipy 1.1.0\n",
       "sklearn 0.20.0\n",
       "seaborn 0.9.0\n",
       "spacepy UNRELEASED\n",
       "Tue Oct 23 19:29:44 2018 MDT"
      ]
     },
     "execution_count": 2,
     "metadata": {},
     "output_type": "execute_result"
    }
   ],
   "source": [
    "import datetime\n",
    "from pprint import pprint\n",
    "from itertools import tee\n",
    "\n",
    "import spacepy.plot as spp\n",
    "import path\n",
    "import numpy as np\n",
    "import pandas as pd\n",
    "import matplotlib.pyplot as plt\n",
    "from spacepy import omni\n",
    "from spacepy import time as spt\n",
    "from spacepy import plot as spp\n",
    "spp.revert_style()\n",
    "import seaborn as sns\n",
    "sns.set(font_scale=1.5)\n",
    "sns.set_style(\"whitegrid\")\n",
    "import tqdm\n",
    "from scipy import stats\n",
    "import matplotlib\n",
    "from sklearn.neighbors import KDTree\n",
    "import tqdm \n",
    "from spacepy import omni as omni\n",
    "from spacepy import toolbox as tb\n",
    "from spacepy import time as spt\n",
    "from spacepy import datamodel as dm\n",
    "import scipy\n",
    "\n",
    "import verify\n",
    "\n",
    "%version_information numpy, matplotlib, version_information, verify, scipy, sklearn, seaborn, spacepy"
   ]
  },
  {
   "cell_type": "markdown",
   "metadata": {},
   "source": [
    "## Load the CXD data\n",
    "\n",
    "* Load the data\n",
    "    * do any needed cleaning (none needed)\n",
    "    * change times form bin centers to bin starts\n",
    "* Fill in the K-D tree\n",
    "* Prove we have it loaded right"
   ]
  },
  {
   "cell_type": "code",
   "execution_count": 3,
   "metadata": {},
   "outputs": [
    {
     "name": "stdout",
     "output_type": "stream",
     "text": [
      "+\n",
      "|____Flux_0.425 (spacepy.datamodel.dmarray (17349,))\n",
      "|____Flux_1.0 (spacepy.datamodel.dmarray (17349,))\n",
      "|____Flux_1.6 (spacepy.datamodel.dmarray (17349,))\n",
      "|____UTC (spacepy.datamodel.dmarray (17349,))\n"
     ]
    }
   ],
   "source": [
    "CXD_dfile = '../Data/CXDdata_L4p25toL4p5.h5'\n",
    "CXD = dm.fromHDF5(CXD_dfile)\n",
    "CXD.tree(verbose=1)"
   ]
  },
  {
   "cell_type": "code",
   "execution_count": 4,
   "metadata": {},
   "outputs": [
    {
     "data": {
      "text/plain": [
       "dmarray([b'2001-01-01T04:00:00', b'2001-01-01T12:00:00',\n",
       "         b'2001-01-01T20:00:00', b'2001-01-02T04:00:00',\n",
       "         b'2001-01-02T12:00:00'], dtype='|S35')"
      ]
     },
     "execution_count": 4,
     "metadata": {},
     "output_type": "execute_result"
    }
   ],
   "source": [
    "CXD['UTC'][0:5]"
   ]
  },
  {
   "cell_type": "code",
   "execution_count": 5,
   "metadata": {},
   "outputs": [
    {
     "data": {
      "text/plain": [
       "DatetimeIndex(['2001-01-01 04:00:00', '2001-01-01 12:00:00',\n",
       "               '2001-01-01 20:00:00', '2001-01-02 04:00:00',\n",
       "               '2001-01-02 12:00:00'],\n",
       "              dtype='datetime64[ns]', freq=None)"
      ]
     },
     "execution_count": 5,
     "metadata": {},
     "output_type": "execute_result"
    }
   ],
   "source": [
    "pd.DatetimeIndex(np.asarray(CXD['UTC'][0:5], dtype=str))"
   ]
  },
  {
   "cell_type": "code",
   "execution_count": 6,
   "metadata": {},
   "outputs": [
    {
     "data": {
      "text/html": [
       "<div>\n",
       "<style scoped>\n",
       "    .dataframe tbody tr th:only-of-type {\n",
       "        vertical-align: middle;\n",
       "    }\n",
       "\n",
       "    .dataframe tbody tr th {\n",
       "        vertical-align: top;\n",
       "    }\n",
       "\n",
       "    .dataframe thead th {\n",
       "        text-align: right;\n",
       "    }\n",
       "</style>\n",
       "<table border=\"1\" class=\"dataframe\">\n",
       "  <thead>\n",
       "    <tr style=\"text-align: right;\">\n",
       "      <th></th>\n",
       "      <th>Flux_1.6</th>\n",
       "    </tr>\n",
       "  </thead>\n",
       "  <tbody>\n",
       "    <tr>\n",
       "      <th>2001-02-20 12:00:00</th>\n",
       "      <td>43069.021355</td>\n",
       "    </tr>\n",
       "    <tr>\n",
       "      <th>2001-02-20 20:00:00</th>\n",
       "      <td>27193.231000</td>\n",
       "    </tr>\n",
       "    <tr>\n",
       "      <th>2001-02-21 04:00:00</th>\n",
       "      <td>14515.348125</td>\n",
       "    </tr>\n",
       "    <tr>\n",
       "      <th>2001-02-21 12:00:00</th>\n",
       "      <td>24432.734140</td>\n",
       "    </tr>\n",
       "    <tr>\n",
       "      <th>2001-02-21 20:00:00</th>\n",
       "      <td>23571.599474</td>\n",
       "    </tr>\n",
       "  </tbody>\n",
       "</table>\n",
       "</div>"
      ],
      "text/plain": [
       "                         Flux_1.6\n",
       "2001-02-20 12:00:00  43069.021355\n",
       "2001-02-20 20:00:00  27193.231000\n",
       "2001-02-21 04:00:00  14515.348125\n",
       "2001-02-21 12:00:00  24432.734140\n",
       "2001-02-21 20:00:00  23571.599474"
      ]
     },
     "execution_count": 6,
     "metadata": {},
     "output_type": "execute_result"
    }
   ],
   "source": [
    "CXD = pd.DataFrame({'Flux_1.6':CXD['Flux_1.6']}, index=pd.DatetimeIndex(np.asarray(CXD['UTC'], dtype=str)))\n",
    "CXD.dropna(inplace=True)\n",
    "CXD.head()"
   ]
  },
  {
   "cell_type": "code",
   "execution_count": 7,
   "metadata": {},
   "outputs": [
    {
     "data": {
      "text/plain": [
       "<matplotlib.axes._subplots.AxesSubplot at 0xa25f96128>"
      ]
     },
     "execution_count": 7,
     "metadata": {},
     "output_type": "execute_result"
    },
    {
     "data": {
      "image/png": "[encoded data removed]",
      "text/plain": [
       "<Figure size 432x288 with 1 Axes>"
      ]
     },
     "metadata": {
      "needs_background": "light"
     },
     "output_type": "display_data"
    }
   ],
   "source": [
    "CXD.plot(logy=True)"
   ]
  },
  {
   "cell_type": "code",
   "execution_count": 8,
   "metadata": {},
   "outputs": [
    {
     "data": {
      "text/html": [
       "<div>\n",
       "<style scoped>\n",
       "    .dataframe tbody tr th:only-of-type {\n",
       "        vertical-align: middle;\n",
       "    }\n",
       "\n",
       "    .dataframe tbody tr th {\n",
       "        vertical-align: top;\n",
       "    }\n",
       "\n",
       "    .dataframe thead th {\n",
       "        text-align: right;\n",
       "    }\n",
       "</style>\n",
       "<table border=\"1\" class=\"dataframe\">\n",
       "  <thead>\n",
       "    <tr style=\"text-align: right;\">\n",
       "      <th></th>\n",
       "      <th>Flux_1.6</th>\n",
       "      <th>Log_Flux_1.6</th>\n",
       "      <th>Log_Flux_1.6_std</th>\n",
       "    </tr>\n",
       "  </thead>\n",
       "  <tbody>\n",
       "    <tr>\n",
       "      <th>2001-02-20 12:00:00</th>\n",
       "      <td>43069.021355</td>\n",
       "      <td>4.634165</td>\n",
       "      <td>0.471567</td>\n",
       "    </tr>\n",
       "    <tr>\n",
       "      <th>2001-02-20 20:00:00</th>\n",
       "      <td>27193.231000</td>\n",
       "      <td>4.434461</td>\n",
       "      <td>0.254677</td>\n",
       "    </tr>\n",
       "    <tr>\n",
       "      <th>2001-02-21 04:00:00</th>\n",
       "      <td>14515.348125</td>\n",
       "      <td>4.161827</td>\n",
       "      <td>-0.041419</td>\n",
       "    </tr>\n",
       "    <tr>\n",
       "      <th>2001-02-21 12:00:00</th>\n",
       "      <td>24432.734140</td>\n",
       "      <td>4.387972</td>\n",
       "      <td>0.204187</td>\n",
       "    </tr>\n",
       "    <tr>\n",
       "      <th>2001-02-21 20:00:00</th>\n",
       "      <td>23571.599474</td>\n",
       "      <td>4.372389</td>\n",
       "      <td>0.187263</td>\n",
       "    </tr>\n",
       "  </tbody>\n",
       "</table>\n",
       "</div>"
      ],
      "text/plain": [
       "                         Flux_1.6  Log_Flux_1.6  Log_Flux_1.6_std\n",
       "2001-02-20 12:00:00  43069.021355      4.634165          0.471567\n",
       "2001-02-20 20:00:00  27193.231000      4.434461          0.254677\n",
       "2001-02-21 04:00:00  14515.348125      4.161827         -0.041419\n",
       "2001-02-21 12:00:00  24432.734140      4.387972          0.204187\n",
       "2001-02-21 20:00:00  23571.599474      4.372389          0.187263"
      ]
     },
     "execution_count": 8,
     "metadata": {},
     "output_type": "execute_result"
    }
   ],
   "source": [
    "CXD['Log_Flux_1.6'] = np.log10(CXD['Flux_1.6'])\n",
    "std_mean = CXD['Log_Flux_1.6'].mean()\n",
    "std_std = CXD['Log_Flux_1.6'].std()\n",
    "CXD['Log_Flux_1.6_std'] = (CXD['Log_Flux_1.6']-std_mean)/std_std\n",
    "CXD.head()"
   ]
  },
  {
   "cell_type": "code",
   "execution_count": 9,
   "metadata": {},
   "outputs": [
    {
     "data": {
      "text/html": [
       "<div>\n",
       "<style scoped>\n",
       "    .dataframe tbody tr th:only-of-type {\n",
       "        vertical-align: middle;\n",
       "    }\n",
       "\n",
       "    .dataframe tbody tr th {\n",
       "        vertical-align: top;\n",
       "    }\n",
       "\n",
       "    .dataframe thead th {\n",
       "        text-align: right;\n",
       "    }\n",
       "</style>\n",
       "<table border=\"1\" class=\"dataframe\">\n",
       "  <thead>\n",
       "    <tr style=\"text-align: right;\">\n",
       "      <th></th>\n",
       "      <th>Flux_1.6</th>\n",
       "      <th>Log_Flux_1.6</th>\n",
       "      <th>Log_Flux_1.6_std</th>\n",
       "    </tr>\n",
       "  </thead>\n",
       "  <tbody>\n",
       "    <tr>\n",
       "      <th>count</th>\n",
       "      <td>16608.000000</td>\n",
       "      <td>16608.000000</td>\n",
       "      <td>1.660800e+04</td>\n",
       "    </tr>\n",
       "    <tr>\n",
       "      <th>mean</th>\n",
       "      <td>68851.601989</td>\n",
       "      <td>4.199964</td>\n",
       "      <td>1.765447e-14</td>\n",
       "    </tr>\n",
       "    <tr>\n",
       "      <th>std</th>\n",
       "      <td>114299.012349</td>\n",
       "      <td>0.920762</td>\n",
       "      <td>1.000000e+00</td>\n",
       "    </tr>\n",
       "    <tr>\n",
       "      <th>min</th>\n",
       "      <td>4.711297</td>\n",
       "      <td>0.673140</td>\n",
       "      <td>-3.830331e+00</td>\n",
       "    </tr>\n",
       "    <tr>\n",
       "      <th>25%</th>\n",
       "      <td>5280.980400</td>\n",
       "      <td>3.722714</td>\n",
       "      <td>-5.183203e-01</td>\n",
       "    </tr>\n",
       "    <tr>\n",
       "      <th>50%</th>\n",
       "      <td>19360.543882</td>\n",
       "      <td>4.286918</td>\n",
       "      <td>9.443633e-02</td>\n",
       "    </tr>\n",
       "    <tr>\n",
       "      <th>75%</th>\n",
       "      <td>75268.222359</td>\n",
       "      <td>4.876612</td>\n",
       "      <td>7.348776e-01</td>\n",
       "    </tr>\n",
       "    <tr>\n",
       "      <th>max</th>\n",
       "      <td>701504.594737</td>\n",
       "      <td>5.846031</td>\n",
       "      <td>1.787722e+00</td>\n",
       "    </tr>\n",
       "  </tbody>\n",
       "</table>\n",
       "</div>"
      ],
      "text/plain": [
       "            Flux_1.6  Log_Flux_1.6  Log_Flux_1.6_std\n",
       "count   16608.000000  16608.000000      1.660800e+04\n",
       "mean    68851.601989      4.199964      1.765447e-14\n",
       "std    114299.012349      0.920762      1.000000e+00\n",
       "min         4.711297      0.673140     -3.830331e+00\n",
       "25%      5280.980400      3.722714     -5.183203e-01\n",
       "50%     19360.543882      4.286918      9.443633e-02\n",
       "75%     75268.222359      4.876612      7.348776e-01\n",
       "max    701504.594737      5.846031      1.787722e+00"
      ]
     },
     "execution_count": 9,
     "metadata": {},
     "output_type": "execute_result"
    }
   ],
   "source": [
    "CXD.describe()"
   ]
  },
  {
   "cell_type": "code",
   "execution_count": 10,
   "metadata": {},
   "outputs": [
    {
     "data": {
      "text/plain": [
       "(15.167123287671233, 'years')"
      ]
     },
     "execution_count": 10,
     "metadata": {},
     "output_type": "execute_result"
    }
   ],
   "source": [
    "16608*8/24/365, 'years'"
   ]
  },
  {
   "cell_type": "code",
   "execution_count": 11,
   "metadata": {},
   "outputs": [
    {
     "data": {
      "image/png": "[encoded data removed]",
      "text/plain": [
       "<Figure size 720x504 with 3 Axes>"
      ]
     },
     "metadata": {
      "needs_background": "light"
     },
     "output_type": "display_data"
    }
   ],
   "source": [
    "ax = CXD.plot(logy=False, subplots=True, figsize=(10,7))\n",
    "ax[0].set_yscale('log')"
   ]
  },
  {
   "cell_type": "markdown",
   "metadata": {},
   "source": [
    "### Change bin center times to bin start times\n",
    "Makes it easier to pull out data between stamps"
   ]
  },
  {
   "cell_type": "code",
   "execution_count": 12,
   "metadata": {},
   "outputs": [
    {
     "data": {
      "text/html": [
       "<div>\n",
       "<style scoped>\n",
       "    .dataframe tbody tr th:only-of-type {\n",
       "        vertical-align: middle;\n",
       "    }\n",
       "\n",
       "    .dataframe tbody tr th {\n",
       "        vertical-align: top;\n",
       "    }\n",
       "\n",
       "    .dataframe thead th {\n",
       "        text-align: right;\n",
       "    }\n",
       "</style>\n",
       "<table border=\"1\" class=\"dataframe\">\n",
       "  <thead>\n",
       "    <tr style=\"text-align: right;\">\n",
       "      <th></th>\n",
       "      <th>Flux_1.6</th>\n",
       "      <th>Log_Flux_1.6</th>\n",
       "      <th>Log_Flux_1.6_std</th>\n",
       "    </tr>\n",
       "  </thead>\n",
       "  <tbody>\n",
       "    <tr>\n",
       "      <th>2001-02-20 08:00:00</th>\n",
       "      <td>43069.021355</td>\n",
       "      <td>4.634165</td>\n",
       "      <td>0.471567</td>\n",
       "    </tr>\n",
       "    <tr>\n",
       "      <th>2001-02-20 16:00:00</th>\n",
       "      <td>27193.231000</td>\n",
       "      <td>4.434461</td>\n",
       "      <td>0.254677</td>\n",
       "    </tr>\n",
       "    <tr>\n",
       "      <th>2001-02-21 00:00:00</th>\n",
       "      <td>14515.348125</td>\n",
       "      <td>4.161827</td>\n",
       "      <td>-0.041419</td>\n",
       "    </tr>\n",
       "    <tr>\n",
       "      <th>2001-02-21 08:00:00</th>\n",
       "      <td>24432.734140</td>\n",
       "      <td>4.387972</td>\n",
       "      <td>0.204187</td>\n",
       "    </tr>\n",
       "    <tr>\n",
       "      <th>2001-02-21 16:00:00</th>\n",
       "      <td>23571.599474</td>\n",
       "      <td>4.372389</td>\n",
       "      <td>0.187263</td>\n",
       "    </tr>\n",
       "  </tbody>\n",
       "</table>\n",
       "</div>"
      ],
      "text/plain": [
       "                         Flux_1.6  Log_Flux_1.6  Log_Flux_1.6_std\n",
       "2001-02-20 08:00:00  43069.021355      4.634165          0.471567\n",
       "2001-02-20 16:00:00  27193.231000      4.434461          0.254677\n",
       "2001-02-21 00:00:00  14515.348125      4.161827         -0.041419\n",
       "2001-02-21 08:00:00  24432.734140      4.387972          0.204187\n",
       "2001-02-21 16:00:00  23571.599474      4.372389          0.187263"
      ]
     },
     "execution_count": 12,
     "metadata": {},
     "output_type": "execute_result"
    }
   ],
   "source": [
    "CXD.index -= datetime.timedelta(hours=4)\n",
    "CXD.sort_index(inplace=True)    # make sure it is sorted (should already be)\n",
    "CXD.head()"
   ]
  },
  {
   "cell_type": "markdown",
   "metadata": {},
   "source": [
    "### Interpolate over gaps 1 data point wide\n",
    "* Looks like are 590 points"
   ]
  },
  {
   "cell_type": "code",
   "execution_count": 13,
   "metadata": {},
   "outputs": [
    {
     "data": {
      "text/html": [
       "<div>\n",
       "<style scoped>\n",
       "    .dataframe tbody tr th:only-of-type {\n",
       "        vertical-align: middle;\n",
       "    }\n",
       "\n",
       "    .dataframe tbody tr th {\n",
       "        vertical-align: top;\n",
       "    }\n",
       "\n",
       "    .dataframe thead th {\n",
       "        text-align: right;\n",
       "    }\n",
       "</style>\n",
       "<table border=\"1\" class=\"dataframe\">\n",
       "  <thead>\n",
       "    <tr style=\"text-align: right;\">\n",
       "      <th></th>\n",
       "      <th>Flux_1.6</th>\n",
       "      <th>Log_Flux_1.6</th>\n",
       "      <th>Log_Flux_1.6_std</th>\n",
       "    </tr>\n",
       "  </thead>\n",
       "  <tbody>\n",
       "    <tr>\n",
       "      <th>count</th>\n",
       "      <td>16608.000000</td>\n",
       "      <td>16608.000000</td>\n",
       "      <td>1.660800e+04</td>\n",
       "    </tr>\n",
       "    <tr>\n",
       "      <th>mean</th>\n",
       "      <td>68851.601989</td>\n",
       "      <td>4.199964</td>\n",
       "      <td>1.765447e-14</td>\n",
       "    </tr>\n",
       "    <tr>\n",
       "      <th>std</th>\n",
       "      <td>114299.012349</td>\n",
       "      <td>0.920762</td>\n",
       "      <td>1.000000e+00</td>\n",
       "    </tr>\n",
       "    <tr>\n",
       "      <th>min</th>\n",
       "      <td>4.711297</td>\n",
       "      <td>0.673140</td>\n",
       "      <td>-3.830331e+00</td>\n",
       "    </tr>\n",
       "    <tr>\n",
       "      <th>25%</th>\n",
       "      <td>5280.980400</td>\n",
       "      <td>3.722714</td>\n",
       "      <td>-5.183203e-01</td>\n",
       "    </tr>\n",
       "    <tr>\n",
       "      <th>50%</th>\n",
       "      <td>19360.543882</td>\n",
       "      <td>4.286918</td>\n",
       "      <td>9.443633e-02</td>\n",
       "    </tr>\n",
       "    <tr>\n",
       "      <th>75%</th>\n",
       "      <td>75268.222359</td>\n",
       "      <td>4.876612</td>\n",
       "      <td>7.348776e-01</td>\n",
       "    </tr>\n",
       "    <tr>\n",
       "      <th>max</th>\n",
       "      <td>701504.594737</td>\n",
       "      <td>5.846031</td>\n",
       "      <td>1.787722e+00</td>\n",
       "    </tr>\n",
       "  </tbody>\n",
       "</table>\n",
       "</div>"
      ],
      "text/plain": [
       "            Flux_1.6  Log_Flux_1.6  Log_Flux_1.6_std\n",
       "count   16608.000000  16608.000000      1.660800e+04\n",
       "mean    68851.601989      4.199964      1.765447e-14\n",
       "std    114299.012349      0.920762      1.000000e+00\n",
       "min         4.711297      0.673140     -3.830331e+00\n",
       "25%      5280.980400      3.722714     -5.183203e-01\n",
       "50%     19360.543882      4.286918      9.443633e-02\n",
       "75%     75268.222359      4.876612      7.348776e-01\n",
       "max    701504.594737      5.846031      1.787722e+00"
      ]
     },
     "execution_count": 13,
     "metadata": {},
     "output_type": "execute_result"
    }
   ],
   "source": [
    "CXD.describe()"
   ]
  },
  {
   "cell_type": "code",
   "execution_count": 14,
   "metadata": {},
   "outputs": [],
   "source": [
    "# this is all the possible time stamps\n",
    "ind = pd.DatetimeIndex(start=CXD.index[0], end=CXD.index[-1], freq='8H')\n",
    "dftmp = pd.DataFrame({v:np.nan for v in CXD.columns}, index=ind)\n",
    "# put them all into the CXD df\n",
    "CXD = pd.concat([CXD, dftmp])\n",
    "CXD = CXD[~CXD.index.duplicated(keep='first')]\n",
    "CXD.sort_index(inplace=True)"
   ]
  },
  {
   "cell_type": "code",
   "execution_count": 15,
   "metadata": {},
   "outputs": [
    {
     "data": {
      "text/html": [
       "<div>\n",
       "<style scoped>\n",
       "    .dataframe tbody tr th:only-of-type {\n",
       "        vertical-align: middle;\n",
       "    }\n",
       "\n",
       "    .dataframe tbody tr th {\n",
       "        vertical-align: top;\n",
       "    }\n",
       "\n",
       "    .dataframe thead th {\n",
       "        text-align: right;\n",
       "    }\n",
       "</style>\n",
       "<table border=\"1\" class=\"dataframe\">\n",
       "  <thead>\n",
       "    <tr style=\"text-align: right;\">\n",
       "      <th></th>\n",
       "      <th>Flux_1.6</th>\n",
       "      <th>Log_Flux_1.6</th>\n",
       "      <th>Log_Flux_1.6_std</th>\n",
       "    </tr>\n",
       "  </thead>\n",
       "  <tbody>\n",
       "    <tr>\n",
       "      <th>2001-02-20 08:00:00</th>\n",
       "      <td>43069.021355</td>\n",
       "      <td>4.634165</td>\n",
       "      <td>0.471567</td>\n",
       "    </tr>\n",
       "    <tr>\n",
       "      <th>2001-02-20 16:00:00</th>\n",
       "      <td>27193.231000</td>\n",
       "      <td>4.434461</td>\n",
       "      <td>0.254677</td>\n",
       "    </tr>\n",
       "    <tr>\n",
       "      <th>2001-02-21 00:00:00</th>\n",
       "      <td>14515.348125</td>\n",
       "      <td>4.161827</td>\n",
       "      <td>-0.041419</td>\n",
       "    </tr>\n",
       "    <tr>\n",
       "      <th>2001-02-21 08:00:00</th>\n",
       "      <td>24432.734140</td>\n",
       "      <td>4.387972</td>\n",
       "      <td>0.204187</td>\n",
       "    </tr>\n",
       "    <tr>\n",
       "      <th>2001-02-21 16:00:00</th>\n",
       "      <td>23571.599474</td>\n",
       "      <td>4.372389</td>\n",
       "      <td>0.187263</td>\n",
       "    </tr>\n",
       "  </tbody>\n",
       "</table>\n",
       "</div>"
      ],
      "text/plain": [
       "                         Flux_1.6  Log_Flux_1.6  Log_Flux_1.6_std\n",
       "2001-02-20 08:00:00  43069.021355      4.634165          0.471567\n",
       "2001-02-20 16:00:00  27193.231000      4.434461          0.254677\n",
       "2001-02-21 00:00:00  14515.348125      4.161827         -0.041419\n",
       "2001-02-21 08:00:00  24432.734140      4.387972          0.204187\n",
       "2001-02-21 16:00:00  23571.599474      4.372389          0.187263"
      ]
     },
     "execution_count": 15,
     "metadata": {},
     "output_type": "execute_result"
    }
   ],
   "source": [
    "CXD.head()"
   ]
  },
  {
   "cell_type": "code",
   "execution_count": 16,
   "metadata": {},
   "outputs": [
    {
     "data": {
      "text/html": [
       "<div>\n",
       "<style scoped>\n",
       "    .dataframe tbody tr th:only-of-type {\n",
       "        vertical-align: middle;\n",
       "    }\n",
       "\n",
       "    .dataframe tbody tr th {\n",
       "        vertical-align: top;\n",
       "    }\n",
       "\n",
       "    .dataframe thead th {\n",
       "        text-align: right;\n",
       "    }\n",
       "</style>\n",
       "<table border=\"1\" class=\"dataframe\">\n",
       "  <thead>\n",
       "    <tr style=\"text-align: right;\">\n",
       "      <th></th>\n",
       "      <th>Flux_1.6</th>\n",
       "      <th>Log_Flux_1.6</th>\n",
       "      <th>Log_Flux_1.6_std</th>\n",
       "    </tr>\n",
       "  </thead>\n",
       "  <tbody>\n",
       "    <tr>\n",
       "      <th>count</th>\n",
       "      <td>16608.000000</td>\n",
       "      <td>16608.000000</td>\n",
       "      <td>1.660800e+04</td>\n",
       "    </tr>\n",
       "    <tr>\n",
       "      <th>mean</th>\n",
       "      <td>68851.601989</td>\n",
       "      <td>4.199964</td>\n",
       "      <td>1.765447e-14</td>\n",
       "    </tr>\n",
       "    <tr>\n",
       "      <th>std</th>\n",
       "      <td>114299.012349</td>\n",
       "      <td>0.920762</td>\n",
       "      <td>1.000000e+00</td>\n",
       "    </tr>\n",
       "    <tr>\n",
       "      <th>min</th>\n",
       "      <td>4.711297</td>\n",
       "      <td>0.673140</td>\n",
       "      <td>-3.830331e+00</td>\n",
       "    </tr>\n",
       "    <tr>\n",
       "      <th>25%</th>\n",
       "      <td>5280.980400</td>\n",
       "      <td>3.722714</td>\n",
       "      <td>-5.183203e-01</td>\n",
       "    </tr>\n",
       "    <tr>\n",
       "      <th>50%</th>\n",
       "      <td>19360.543882</td>\n",
       "      <td>4.286918</td>\n",
       "      <td>9.443633e-02</td>\n",
       "    </tr>\n",
       "    <tr>\n",
       "      <th>75%</th>\n",
       "      <td>75268.222359</td>\n",
       "      <td>4.876612</td>\n",
       "      <td>7.348776e-01</td>\n",
       "    </tr>\n",
       "    <tr>\n",
       "      <th>max</th>\n",
       "      <td>701504.594737</td>\n",
       "      <td>5.846031</td>\n",
       "      <td>1.787722e+00</td>\n",
       "    </tr>\n",
       "  </tbody>\n",
       "</table>\n",
       "</div>"
      ],
      "text/plain": [
       "            Flux_1.6  Log_Flux_1.6  Log_Flux_1.6_std\n",
       "count   16608.000000  16608.000000      1.660800e+04\n",
       "mean    68851.601989      4.199964      1.765447e-14\n",
       "std    114299.012349      0.920762      1.000000e+00\n",
       "min         4.711297      0.673140     -3.830331e+00\n",
       "25%      5280.980400      3.722714     -5.183203e-01\n",
       "50%     19360.543882      4.286918      9.443633e-02\n",
       "75%     75268.222359      4.876612      7.348776e-01\n",
       "max    701504.594737      5.846031      1.787722e+00"
      ]
     },
     "execution_count": 16,
     "metadata": {},
     "output_type": "execute_result"
    }
   ],
   "source": [
    "CXD.describe()"
   ]
  },
  {
   "cell_type": "code",
   "execution_count": 17,
   "metadata": {},
   "outputs": [
    {
     "data": {
      "text/plain": [
       "Flux_1.6            590\n",
       "Log_Flux_1.6        590\n",
       "Log_Flux_1.6_std    590\n",
       "dtype: int64"
      ]
     },
     "execution_count": 17,
     "metadata": {},
     "output_type": "execute_result"
    }
   ],
   "source": [
    "CXD.isna().sum()"
   ]
  },
  {
   "cell_type": "code",
   "execution_count": 18,
   "metadata": {},
   "outputs": [
    {
     "data": {
      "text/html": [
       "<div>\n",
       "<style scoped>\n",
       "    .dataframe tbody tr th:only-of-type {\n",
       "        vertical-align: middle;\n",
       "    }\n",
       "\n",
       "    .dataframe tbody tr th {\n",
       "        vertical-align: top;\n",
       "    }\n",
       "\n",
       "    .dataframe thead th {\n",
       "        text-align: right;\n",
       "    }\n",
       "</style>\n",
       "<table border=\"1\" class=\"dataframe\">\n",
       "  <thead>\n",
       "    <tr style=\"text-align: right;\">\n",
       "      <th></th>\n",
       "      <th>Flux_1.6</th>\n",
       "      <th>Log_Flux_1.6</th>\n",
       "      <th>Log_Flux_1.6_std</th>\n",
       "    </tr>\n",
       "  </thead>\n",
       "  <tbody>\n",
       "    <tr>\n",
       "      <th>2001-02-24 08:00:00</th>\n",
       "      <td>NaN</td>\n",
       "      <td>NaN</td>\n",
       "      <td>NaN</td>\n",
       "    </tr>\n",
       "    <tr>\n",
       "      <th>2001-02-24 16:00:00</th>\n",
       "      <td>NaN</td>\n",
       "      <td>NaN</td>\n",
       "      <td>NaN</td>\n",
       "    </tr>\n",
       "    <tr>\n",
       "      <th>2001-02-25 00:00:00</th>\n",
       "      <td>NaN</td>\n",
       "      <td>NaN</td>\n",
       "      <td>NaN</td>\n",
       "    </tr>\n",
       "    <tr>\n",
       "      <th>2001-02-25 08:00:00</th>\n",
       "      <td>NaN</td>\n",
       "      <td>NaN</td>\n",
       "      <td>NaN</td>\n",
       "    </tr>\n",
       "    <tr>\n",
       "      <th>2001-03-12 08:00:00</th>\n",
       "      <td>NaN</td>\n",
       "      <td>NaN</td>\n",
       "      <td>NaN</td>\n",
       "    </tr>\n",
       "  </tbody>\n",
       "</table>\n",
       "</div>"
      ],
      "text/plain": [
       "                     Flux_1.6  Log_Flux_1.6  Log_Flux_1.6_std\n",
       "2001-02-24 08:00:00       NaN           NaN               NaN\n",
       "2001-02-24 16:00:00       NaN           NaN               NaN\n",
       "2001-02-25 00:00:00       NaN           NaN               NaN\n",
       "2001-02-25 08:00:00       NaN           NaN               NaN\n",
       "2001-03-12 08:00:00       NaN           NaN               NaN"
      ]
     },
     "execution_count": 18,
     "metadata": {},
     "output_type": "execute_result"
    }
   ],
   "source": [
    "CXD.loc[CXD.isna()['Flux_1.6']].head()"
   ]
  },
  {
   "cell_type": "code",
   "execution_count": 19,
   "metadata": {},
   "outputs": [
    {
     "data": {
      "text/html": [
       "<div>\n",
       "<style scoped>\n",
       "    .dataframe tbody tr th:only-of-type {\n",
       "        vertical-align: middle;\n",
       "    }\n",
       "\n",
       "    .dataframe tbody tr th {\n",
       "        vertical-align: top;\n",
       "    }\n",
       "\n",
       "    .dataframe thead th {\n",
       "        text-align: right;\n",
       "    }\n",
       "</style>\n",
       "<table border=\"1\" class=\"dataframe\">\n",
       "  <thead>\n",
       "    <tr style=\"text-align: right;\">\n",
       "      <th></th>\n",
       "      <th>Flux_1.6</th>\n",
       "      <th>Log_Flux_1.6</th>\n",
       "      <th>Log_Flux_1.6_std</th>\n",
       "    </tr>\n",
       "  </thead>\n",
       "  <tbody>\n",
       "    <tr>\n",
       "      <th>2001-02-24 00:00:00</th>\n",
       "      <td>13491.928750</td>\n",
       "      <td>4.130074</td>\n",
       "      <td>-0.075905</td>\n",
       "    </tr>\n",
       "    <tr>\n",
       "      <th>2001-02-24 08:00:00</th>\n",
       "      <td>NaN</td>\n",
       "      <td>NaN</td>\n",
       "      <td>NaN</td>\n",
       "    </tr>\n",
       "    <tr>\n",
       "      <th>2001-02-24 16:00:00</th>\n",
       "      <td>NaN</td>\n",
       "      <td>NaN</td>\n",
       "      <td>NaN</td>\n",
       "    </tr>\n",
       "    <tr>\n",
       "      <th>2001-02-25 00:00:00</th>\n",
       "      <td>NaN</td>\n",
       "      <td>NaN</td>\n",
       "      <td>NaN</td>\n",
       "    </tr>\n",
       "    <tr>\n",
       "      <th>2001-02-25 08:00:00</th>\n",
       "      <td>NaN</td>\n",
       "      <td>NaN</td>\n",
       "      <td>NaN</td>\n",
       "    </tr>\n",
       "    <tr>\n",
       "      <th>2001-02-25 16:00:00</th>\n",
       "      <td>16984.478000</td>\n",
       "      <td>4.230052</td>\n",
       "      <td>0.032677</td>\n",
       "    </tr>\n",
       "    <tr>\n",
       "      <th>2001-02-26 00:00:00</th>\n",
       "      <td>15425.448333</td>\n",
       "      <td>4.188238</td>\n",
       "      <td>-0.012735</td>\n",
       "    </tr>\n",
       "    <tr>\n",
       "      <th>2001-02-26 08:00:00</th>\n",
       "      <td>16233.831290</td>\n",
       "      <td>4.210421</td>\n",
       "      <td>0.011357</td>\n",
       "    </tr>\n",
       "    <tr>\n",
       "      <th>2001-02-26 16:00:00</th>\n",
       "      <td>9499.718200</td>\n",
       "      <td>3.977711</td>\n",
       "      <td>-0.241380</td>\n",
       "    </tr>\n",
       "    <tr>\n",
       "      <th>2001-02-27 00:00:00</th>\n",
       "      <td>7908.678786</td>\n",
       "      <td>3.898104</td>\n",
       "      <td>-0.327837</td>\n",
       "    </tr>\n",
       "    <tr>\n",
       "      <th>2001-02-27 08:00:00</th>\n",
       "      <td>8276.462043</td>\n",
       "      <td>3.917845</td>\n",
       "      <td>-0.306398</td>\n",
       "    </tr>\n",
       "  </tbody>\n",
       "</table>\n",
       "</div>"
      ],
      "text/plain": [
       "                         Flux_1.6  Log_Flux_1.6  Log_Flux_1.6_std\n",
       "2001-02-24 00:00:00  13491.928750      4.130074         -0.075905\n",
       "2001-02-24 08:00:00           NaN           NaN               NaN\n",
       "2001-02-24 16:00:00           NaN           NaN               NaN\n",
       "2001-02-25 00:00:00           NaN           NaN               NaN\n",
       "2001-02-25 08:00:00           NaN           NaN               NaN\n",
       "2001-02-25 16:00:00  16984.478000      4.230052          0.032677\n",
       "2001-02-26 00:00:00  15425.448333      4.188238         -0.012735\n",
       "2001-02-26 08:00:00  16233.831290      4.210421          0.011357\n",
       "2001-02-26 16:00:00   9499.718200      3.977711         -0.241380\n",
       "2001-02-27 00:00:00   7908.678786      3.898104         -0.327837\n",
       "2001-02-27 08:00:00   8276.462043      3.917845         -0.306398"
      ]
     },
     "execution_count": 19,
     "metadata": {},
     "output_type": "execute_result"
    }
   ],
   "source": [
    "CXD.loc['2001-02-24 00:00:00':'2001-02-27 08:00:00']"
   ]
  },
  {
   "cell_type": "code",
   "execution_count": 20,
   "metadata": {},
   "outputs": [
    {
     "data": {
      "text/plain": [
       "Flux_1.6            186\n",
       "Log_Flux_1.6        186\n",
       "Log_Flux_1.6_std    186\n",
       "dtype: int64"
      ]
     },
     "execution_count": 20,
     "metadata": {},
     "output_type": "execute_result"
    }
   ],
   "source": [
    "CXD.interpolate(method='index', axis=0, limit=1, inplace=True)\n",
    "CXD.isna().sum()"
   ]
  },
  {
   "cell_type": "markdown",
   "metadata": {},
   "source": [
    "# Build the data into vectors 7 days + 1 measurement long\n",
    "1. Get the start and end times of all the time periods\n",
    "1. grab all the data in each of those, place into vector\n",
    "1. increment start by 1 data point and repeat"
   ]
  },
  {
   "cell_type": "markdown",
   "metadata": {},
   "source": [
    "## Build arrays of all the start/stop times needed to grab the data for vectors"
   ]
  },
  {
   "cell_type": "code",
   "execution_count": 21,
   "metadata": {},
   "outputs": [
    {
     "data": {
      "text/plain": [
       "DatetimeIndex(['2001-02-20 08:00:00', '2001-02-27 16:00:00',\n",
       "               '2001-03-07 00:00:00', '2001-03-14 08:00:00',\n",
       "               '2001-03-21 16:00:00'],\n",
       "              dtype='datetime64[ns]', freq='176H')"
      ]
     },
     "execution_count": 21,
     "metadata": {},
     "output_type": "execute_result"
    }
   ],
   "source": [
    "p1 = pd.DatetimeIndex(start=CXD.index[0], end=CXD.index[-1], freq=datetime.timedelta(days=7, hours=8))\n",
    "p1[0:5]"
   ]
  },
  {
   "cell_type": "code",
   "execution_count": 22,
   "metadata": {},
   "outputs": [
    {
     "data": {
      "text/plain": [
       "22.0"
      ]
     },
     "execution_count": 22,
     "metadata": {},
     "output_type": "execute_result"
    }
   ],
   "source": [
    "(p1[1]-p1[0]).total_seconds()/3600/8"
   ]
  },
  {
   "cell_type": "code",
   "execution_count": 23,
   "metadata": {},
   "outputs": [],
   "source": [
    "periods = []\n",
    "for ii in range(int((p1[1]-p1[0]).total_seconds()/3600/8)):\n",
    "    periods.append(p1+pd.DateOffset(hours=8*ii))"
   ]
  },
  {
   "cell_type": "code",
   "execution_count": 24,
   "metadata": {},
   "outputs": [
    {
     "data": {
      "text/plain": [
       "22"
      ]
     },
     "execution_count": 24,
     "metadata": {},
     "output_type": "execute_result"
    }
   ],
   "source": [
    "len(periods)"
   ]
  },
  {
   "cell_type": "code",
   "execution_count": 25,
   "metadata": {},
   "outputs": [
    {
     "name": "stdout",
     "output_type": "stream",
     "text": [
      "DatetimeIndex(['2001-02-20 08:00:00', '2001-02-27 16:00:00',\n",
      "               '2001-03-07 00:00:00', '2001-03-14 08:00:00'],\n",
      "              dtype='datetime64[ns]', freq='176H')\n",
      "DatetimeIndex(['2001-02-20 16:00:00', '2001-02-28 00:00:00',\n",
      "               '2001-03-07 08:00:00', '2001-03-14 16:00:00'],\n",
      "              dtype='datetime64[ns]', freq='176H')\n",
      "DatetimeIndex(['2001-02-21 00:00:00', '2001-02-28 08:00:00',\n",
      "               '2001-03-07 16:00:00', '2001-03-15 00:00:00'],\n",
      "              dtype='datetime64[ns]', freq='176H')\n",
      "DatetimeIndex(['2001-02-21 08:00:00', '2001-02-28 16:00:00',\n",
      "               '2001-03-08 00:00:00', '2001-03-15 08:00:00'],\n",
      "              dtype='datetime64[ns]', freq='176H')\n",
      "DatetimeIndex(['2001-02-21 16:00:00', '2001-03-01 00:00:00',\n",
      "               '2001-03-08 08:00:00', '2001-03-15 16:00:00'],\n",
      "              dtype='datetime64[ns]', freq='176H')\n",
      "DatetimeIndex(['2001-02-22 00:00:00', '2001-03-01 08:00:00',\n",
      "               '2001-03-08 16:00:00', '2001-03-16 00:00:00'],\n",
      "              dtype='datetime64[ns]', freq='176H')\n",
      "DatetimeIndex(['2001-02-22 08:00:00', '2001-03-01 16:00:00',\n",
      "               '2001-03-09 00:00:00', '2001-03-16 08:00:00'],\n",
      "              dtype='datetime64[ns]', freq='176H')\n",
      "DatetimeIndex(['2001-02-22 16:00:00', '2001-03-02 00:00:00',\n",
      "               '2001-03-09 08:00:00', '2001-03-16 16:00:00'],\n",
      "              dtype='datetime64[ns]', freq='176H')\n",
      "DatetimeIndex(['2001-02-23 00:00:00', '2001-03-02 08:00:00',\n",
      "               '2001-03-09 16:00:00', '2001-03-17 00:00:00'],\n",
      "              dtype='datetime64[ns]', freq='176H')\n",
      "DatetimeIndex(['2001-02-23 08:00:00', '2001-03-02 16:00:00',\n",
      "               '2001-03-10 00:00:00', '2001-03-17 08:00:00'],\n",
      "              dtype='datetime64[ns]', freq='176H')\n",
      "DatetimeIndex(['2001-02-23 16:00:00', '2001-03-03 00:00:00',\n",
      "               '2001-03-10 08:00:00', '2001-03-17 16:00:00'],\n",
      "              dtype='datetime64[ns]', freq='176H')\n",
      "DatetimeIndex(['2001-02-24 00:00:00', '2001-03-03 08:00:00',\n",
      "               '2001-03-10 16:00:00', '2001-03-18 00:00:00'],\n",
      "              dtype='datetime64[ns]', freq='176H')\n",
      "DatetimeIndex(['2001-02-24 08:00:00', '2001-03-03 16:00:00',\n",
      "               '2001-03-11 00:00:00', '2001-03-18 08:00:00'],\n",
      "              dtype='datetime64[ns]', freq='176H')\n",
      "DatetimeIndex(['2001-02-24 16:00:00', '2001-03-04 00:00:00',\n",
      "               '2001-03-11 08:00:00', '2001-03-18 16:00:00'],\n",
      "              dtype='datetime64[ns]', freq='176H')\n",
      "DatetimeIndex(['2001-02-25 00:00:00', '2001-03-04 08:00:00',\n",
      "               '2001-03-11 16:00:00', '2001-03-19 00:00:00'],\n",
      "              dtype='datetime64[ns]', freq='176H')\n",
      "DatetimeIndex(['2001-02-25 08:00:00', '2001-03-04 16:00:00',\n",
      "               '2001-03-12 00:00:00', '2001-03-19 08:00:00'],\n",
      "              dtype='datetime64[ns]', freq='176H')\n",
      "DatetimeIndex(['2001-02-25 16:00:00', '2001-03-05 00:00:00',\n",
      "               '2001-03-12 08:00:00', '2001-03-19 16:00:00'],\n",
      "              dtype='datetime64[ns]', freq='176H')\n",
      "DatetimeIndex(['2001-02-26 00:00:00', '2001-03-05 08:00:00',\n",
      "               '2001-03-12 16:00:00', '2001-03-20 00:00:00'],\n",
      "              dtype='datetime64[ns]', freq='176H')\n",
      "DatetimeIndex(['2001-02-26 08:00:00', '2001-03-05 16:00:00',\n",
      "               '2001-03-13 00:00:00', '2001-03-20 08:00:00'],\n",
      "              dtype='datetime64[ns]', freq='176H')\n",
      "DatetimeIndex(['2001-02-26 16:00:00', '2001-03-06 00:00:00',\n",
      "               '2001-03-13 08:00:00', '2001-03-20 16:00:00'],\n",
      "              dtype='datetime64[ns]', freq='176H')\n",
      "DatetimeIndex(['2001-02-27 00:00:00', '2001-03-06 08:00:00',\n",
      "               '2001-03-13 16:00:00', '2001-03-21 00:00:00'],\n",
      "              dtype='datetime64[ns]', freq='176H')\n",
      "DatetimeIndex(['2001-02-27 08:00:00', '2001-03-06 16:00:00',\n",
      "               '2001-03-14 00:00:00', '2001-03-21 08:00:00'],\n",
      "              dtype='datetime64[ns]', freq='176H')\n"
     ]
    }
   ],
   "source": [
    "# the last periods[-1][0] should be the point before periods[0][1]\n",
    "for p in periods:\n",
    "    print(p[:4])\n",
    "assert (periods[0][1] - periods[-1][0]).total_seconds() == 3600*8"
   ]
  },
  {
   "cell_type": "markdown",
   "metadata": {},
   "source": [
    "## Using the start/stop times grab all the data and make vectors"
   ]
  },
  {
   "cell_type": "code",
   "execution_count": 26,
   "metadata": {},
   "outputs": [
    {
     "data": {
      "text/html": [
       "<div>\n",
       "<style scoped>\n",
       "    .dataframe tbody tr th:only-of-type {\n",
       "        vertical-align: middle;\n",
       "    }\n",
       "\n",
       "    .dataframe tbody tr th {\n",
       "        vertical-align: top;\n",
       "    }\n",
       "\n",
       "    .dataframe thead th {\n",
       "        text-align: right;\n",
       "    }\n",
       "</style>\n",
       "<table border=\"1\" class=\"dataframe\">\n",
       "  <thead>\n",
       "    <tr style=\"text-align: right;\">\n",
       "      <th></th>\n",
       "      <th>-176</th>\n",
       "      <th>-168</th>\n",
       "      <th>-160</th>\n",
       "      <th>-152</th>\n",
       "      <th>-144</th>\n",
       "      <th>-136</th>\n",
       "      <th>-128</th>\n",
       "      <th>-120</th>\n",
       "      <th>-112</th>\n",
       "      <th>-104</th>\n",
       "      <th>...</th>\n",
       "      <th>-72</th>\n",
       "      <th>-64</th>\n",
       "      <th>-56</th>\n",
       "      <th>-48</th>\n",
       "      <th>-40</th>\n",
       "      <th>-32</th>\n",
       "      <th>-24</th>\n",
       "      <th>-16</th>\n",
       "      <th>-8</th>\n",
       "      <th>0</th>\n",
       "    </tr>\n",
       "  </thead>\n",
       "  <tbody>\n",
       "    <tr>\n",
       "      <th>2001-02-27 16:00:00</th>\n",
       "      <td>4.634165</td>\n",
       "      <td>4.434461</td>\n",
       "      <td>4.161827</td>\n",
       "      <td>4.387972</td>\n",
       "      <td>4.372389</td>\n",
       "      <td>4.387674</td>\n",
       "      <td>4.372046</td>\n",
       "      <td>4.186911</td>\n",
       "      <td>4.07088</td>\n",
       "      <td>4.11198</td>\n",
       "      <td>...</td>\n",
       "      <td>NaN</td>\n",
       "      <td>NaN</td>\n",
       "      <td>NaN</td>\n",
       "      <td>4.230052</td>\n",
       "      <td>4.188238</td>\n",
       "      <td>4.210421</td>\n",
       "      <td>3.977711</td>\n",
       "      <td>3.898104</td>\n",
       "      <td>3.917845</td>\n",
       "      <td>3.942029</td>\n",
       "    </tr>\n",
       "  </tbody>\n",
       "</table>\n",
       "<p>1 rows × 23 columns</p>\n",
       "</div>"
      ],
      "text/plain": [
       "                         -176      -168      -160      -152      -144  \\\n",
       "2001-02-27 16:00:00  4.634165  4.434461  4.161827  4.387972  4.372389   \n",
       "\n",
       "                         -136      -128      -120     -112     -104    ...     \\\n",
       "2001-02-27 16:00:00  4.387674  4.372046  4.186911  4.07088  4.11198    ...      \n",
       "\n",
       "                     -72   -64   -56       -48       -40       -32       -24   \\\n",
       "2001-02-27 16:00:00   NaN   NaN   NaN  4.230052  4.188238  4.210421  3.977711   \n",
       "\n",
       "                         -16       -8         0    \n",
       "2001-02-27 16:00:00  3.898104  3.917845  3.942029  \n",
       "\n",
       "[1 rows x 23 columns]"
      ]
     },
     "execution_count": 26,
     "metadata": {},
     "output_type": "execute_result"
    }
   ],
   "source": [
    "# make a dataframe with the data for the first week, \n",
    "# the index is the measurement time, the columns is the hours before the measurement\n",
    "vector_Log_Flux = pd.DataFrame({v:CXD['Log_Flux_1.6'].iloc[ii] for ii, v in enumerate(range(-176, 1, 8))}, \n",
    "                               index=[periods[0][1]])\n",
    "vector_Log_Flux"
   ]
  },
  {
   "cell_type": "code",
   "execution_count": 27,
   "metadata": {},
   "outputs": [
    {
     "name": "stderr",
     "output_type": "stream",
     "text": [
      "100%|██████████| 22/22 [00:49<00:00,  2.12s/it]\n"
     ]
    }
   ],
   "source": [
    "# This can be done much smarter with .loc[]\n",
    "def pairwise(iterable):\n",
    "    \"s -> (s0,s1), (s1,s2), (s2, s3), ...\"\n",
    "    a, b = tee(iterable)\n",
    "    next(b, None)\n",
    "    return zip(a, b)\n",
    "\n",
    "vectors_Log_Flux = []\n",
    "vectors_Log_Flux_std = []\n",
    "\n",
    "\n",
    "for p in tqdm.tqdm(periods):\n",
    "    TMP_DF = pd.DataFrame({v:CXD['Log_Flux_1.6'].iloc[ii] for ii, v in enumerate(range(-176, 1, 8))}, \n",
    "                               index=[0])\n",
    "    TMP_DF_std = pd.DataFrame({v:CXD['Log_Flux_1.6_std'].iloc[ii] for ii, v in enumerate(range(-176, 1, 8))}, \n",
    "                               index=[0])\n",
    "    for t1, t2 in pairwise(p):\n",
    "        tmpv = CXD['Log_Flux_1.6'].loc[t1:t2].values\n",
    "        if len(tmpv) != 23:\n",
    "            continue\n",
    "        tmpv_std = CXD['Log_Flux_1.6_std'].loc[t1:t2].values\n",
    "        TMP_DF.loc[t2] = tmpv\n",
    "        TMP_DF_std.loc[t2] = tmpv_std\n",
    "    vectors_Log_Flux.append(TMP_DF)\n",
    "    vectors_Log_Flux_std.append(TMP_DF_std)\n",
    "\n",
    "vectors_Log_Flux = pd.concat(vectors_Log_Flux)\n",
    "vectors_Log_Flux.drop(0, inplace=True) # drop the 0 row at the top\n",
    "vectors_Log_Flux_std = pd.concat(vectors_Log_Flux_std)\n",
    "vectors_Log_Flux_std.drop(0, inplace=True) # drop the 0 row at the top\n"
   ]
  },
  {
   "cell_type": "code",
   "execution_count": 28,
   "metadata": {},
   "outputs": [],
   "source": [
    "vectors_Log_Flux.index = pd.DatetimeIndex(vectors_Log_Flux.index)\n",
    "vectors_Log_Flux.sort_index(inplace=True)\n",
    "vectors_Log_Flux_std.index = pd.DatetimeIndex(vectors_Log_Flux_std.index)\n",
    "vectors_Log_Flux_std.sort_index(inplace=True)"
   ]
  },
  {
   "cell_type": "code",
   "execution_count": 29,
   "metadata": {
    "scrolled": false
   },
   "outputs": [
    {
     "data": {
      "text/html": [
       "<div>\n",
       "<style scoped>\n",
       "    .dataframe tbody tr th:only-of-type {\n",
       "        vertical-align: middle;\n",
       "    }\n",
       "\n",
       "    .dataframe tbody tr th {\n",
       "        vertical-align: top;\n",
       "    }\n",
       "\n",
       "    .dataframe thead th {\n",
       "        text-align: right;\n",
       "    }\n",
       "</style>\n",
       "<table border=\"1\" class=\"dataframe\">\n",
       "  <thead>\n",
       "    <tr style=\"text-align: right;\">\n",
       "      <th></th>\n",
       "      <th>-176</th>\n",
       "      <th>-168</th>\n",
       "      <th>-160</th>\n",
       "      <th>-152</th>\n",
       "      <th>-144</th>\n",
       "      <th>-136</th>\n",
       "      <th>-128</th>\n",
       "      <th>-120</th>\n",
       "      <th>-112</th>\n",
       "      <th>-104</th>\n",
       "      <th>...</th>\n",
       "      <th>-72</th>\n",
       "      <th>-64</th>\n",
       "      <th>-56</th>\n",
       "      <th>-48</th>\n",
       "      <th>-40</th>\n",
       "      <th>-32</th>\n",
       "      <th>-24</th>\n",
       "      <th>-16</th>\n",
       "      <th>-8</th>\n",
       "      <th>0</th>\n",
       "    </tr>\n",
       "  </thead>\n",
       "  <tbody>\n",
       "    <tr>\n",
       "      <th>count</th>\n",
       "      <td>16990.000000</td>\n",
       "      <td>16990.000000</td>\n",
       "      <td>16990.000000</td>\n",
       "      <td>16990.000000</td>\n",
       "      <td>16990.000000</td>\n",
       "      <td>16990.000000</td>\n",
       "      <td>16990.000000</td>\n",
       "      <td>16990.000000</td>\n",
       "      <td>16990.000000</td>\n",
       "      <td>16990.000000</td>\n",
       "      <td>...</td>\n",
       "      <td>16990.000000</td>\n",
       "      <td>16991.000000</td>\n",
       "      <td>16992.000000</td>\n",
       "      <td>16993.000000</td>\n",
       "      <td>16993.000000</td>\n",
       "      <td>16993.000000</td>\n",
       "      <td>16993.000000</td>\n",
       "      <td>16993.000000</td>\n",
       "      <td>16993.000000</td>\n",
       "      <td>16993.000000</td>\n",
       "    </tr>\n",
       "    <tr>\n",
       "      <th>mean</th>\n",
       "      <td>4.194834</td>\n",
       "      <td>4.194862</td>\n",
       "      <td>4.194895</td>\n",
       "      <td>4.194905</td>\n",
       "      <td>4.194932</td>\n",
       "      <td>4.194986</td>\n",
       "      <td>4.195048</td>\n",
       "      <td>4.195116</td>\n",
       "      <td>4.195202</td>\n",
       "      <td>4.195290</td>\n",
       "      <td>...</td>\n",
       "      <td>4.195661</td>\n",
       "      <td>4.195747</td>\n",
       "      <td>4.195830</td>\n",
       "      <td>4.195916</td>\n",
       "      <td>4.196002</td>\n",
       "      <td>4.196087</td>\n",
       "      <td>4.196171</td>\n",
       "      <td>4.196272</td>\n",
       "      <td>4.196376</td>\n",
       "      <td>4.196480</td>\n",
       "    </tr>\n",
       "    <tr>\n",
       "      <th>std</th>\n",
       "      <td>0.929693</td>\n",
       "      <td>0.929714</td>\n",
       "      <td>0.929733</td>\n",
       "      <td>0.929733</td>\n",
       "      <td>0.929746</td>\n",
       "      <td>0.929783</td>\n",
       "      <td>0.929830</td>\n",
       "      <td>0.929886</td>\n",
       "      <td>0.929953</td>\n",
       "      <td>0.930012</td>\n",
       "      <td>...</td>\n",
       "      <td>0.930307</td>\n",
       "      <td>0.930347</td>\n",
       "      <td>0.930383</td>\n",
       "      <td>0.930423</td>\n",
       "      <td>0.930494</td>\n",
       "      <td>0.930559</td>\n",
       "      <td>0.930625</td>\n",
       "      <td>0.930695</td>\n",
       "      <td>0.930760</td>\n",
       "      <td>0.930827</td>\n",
       "    </tr>\n",
       "    <tr>\n",
       "      <th>min</th>\n",
       "      <td>0.673140</td>\n",
       "      <td>0.673140</td>\n",
       "      <td>0.673140</td>\n",
       "      <td>0.673140</td>\n",
       "      <td>0.673140</td>\n",
       "      <td>0.673140</td>\n",
       "      <td>0.673140</td>\n",
       "      <td>0.673140</td>\n",
       "      <td>0.673140</td>\n",
       "      <td>0.673140</td>\n",
       "      <td>...</td>\n",
       "      <td>0.673140</td>\n",
       "      <td>0.673140</td>\n",
       "      <td>0.673140</td>\n",
       "      <td>0.673140</td>\n",
       "      <td>0.673140</td>\n",
       "      <td>0.673140</td>\n",
       "      <td>0.673140</td>\n",
       "      <td>0.673140</td>\n",
       "      <td>0.673140</td>\n",
       "      <td>0.673140</td>\n",
       "    </tr>\n",
       "    <tr>\n",
       "      <th>25%</th>\n",
       "      <td>3.714718</td>\n",
       "      <td>3.714718</td>\n",
       "      <td>3.714718</td>\n",
       "      <td>3.714718</td>\n",
       "      <td>3.714718</td>\n",
       "      <td>3.714718</td>\n",
       "      <td>3.714718</td>\n",
       "      <td>3.714718</td>\n",
       "      <td>3.714718</td>\n",
       "      <td>3.714718</td>\n",
       "      <td>...</td>\n",
       "      <td>3.714718</td>\n",
       "      <td>3.714871</td>\n",
       "      <td>3.715024</td>\n",
       "      <td>3.715177</td>\n",
       "      <td>3.715177</td>\n",
       "      <td>3.715177</td>\n",
       "      <td>3.715177</td>\n",
       "      <td>3.715177</td>\n",
       "      <td>3.715177</td>\n",
       "      <td>3.715177</td>\n",
       "    </tr>\n",
       "    <tr>\n",
       "      <th>50%</th>\n",
       "      <td>4.285431</td>\n",
       "      <td>4.285431</td>\n",
       "      <td>4.285431</td>\n",
       "      <td>4.285488</td>\n",
       "      <td>4.285488</td>\n",
       "      <td>4.285488</td>\n",
       "      <td>4.285488</td>\n",
       "      <td>4.285488</td>\n",
       "      <td>4.285640</td>\n",
       "      <td>4.285805</td>\n",
       "      <td>...</td>\n",
       "      <td>4.286297</td>\n",
       "      <td>4.286308</td>\n",
       "      <td>4.286353</td>\n",
       "      <td>4.286398</td>\n",
       "      <td>4.286427</td>\n",
       "      <td>4.286486</td>\n",
       "      <td>4.286688</td>\n",
       "      <td>4.286882</td>\n",
       "      <td>4.286953</td>\n",
       "      <td>4.287055</td>\n",
       "    </tr>\n",
       "    <tr>\n",
       "      <th>75%</th>\n",
       "      <td>4.877342</td>\n",
       "      <td>4.877635</td>\n",
       "      <td>4.877851</td>\n",
       "      <td>4.877851</td>\n",
       "      <td>4.877851</td>\n",
       "      <td>4.877929</td>\n",
       "      <td>4.878074</td>\n",
       "      <td>4.878122</td>\n",
       "      <td>4.878229</td>\n",
       "      <td>4.878379</td>\n",
       "      <td>...</td>\n",
       "      <td>4.878704</td>\n",
       "      <td>4.878749</td>\n",
       "      <td>4.878815</td>\n",
       "      <td>4.878908</td>\n",
       "      <td>4.879299</td>\n",
       "      <td>4.879847</td>\n",
       "      <td>4.879974</td>\n",
       "      <td>4.880041</td>\n",
       "      <td>4.880074</td>\n",
       "      <td>4.880388</td>\n",
       "    </tr>\n",
       "    <tr>\n",
       "      <th>max</th>\n",
       "      <td>5.846031</td>\n",
       "      <td>5.846031</td>\n",
       "      <td>5.846031</td>\n",
       "      <td>5.846031</td>\n",
       "      <td>5.846031</td>\n",
       "      <td>5.846031</td>\n",
       "      <td>5.846031</td>\n",
       "      <td>5.846031</td>\n",
       "      <td>5.846031</td>\n",
       "      <td>5.846031</td>\n",
       "      <td>...</td>\n",
       "      <td>5.846031</td>\n",
       "      <td>5.846031</td>\n",
       "      <td>5.846031</td>\n",
       "      <td>5.846031</td>\n",
       "      <td>5.846031</td>\n",
       "      <td>5.846031</td>\n",
       "      <td>5.846031</td>\n",
       "      <td>5.846031</td>\n",
       "      <td>5.846031</td>\n",
       "      <td>5.846031</td>\n",
       "    </tr>\n",
       "  </tbody>\n",
       "</table>\n",
       "<p>8 rows × 23 columns</p>\n",
       "</div>"
      ],
      "text/plain": [
       "               -176          -168          -160          -152          -144  \\\n",
       "count  16990.000000  16990.000000  16990.000000  16990.000000  16990.000000   \n",
       "mean       4.194834      4.194862      4.194895      4.194905      4.194932   \n",
       "std        0.929693      0.929714      0.929733      0.929733      0.929746   \n",
       "min        0.673140      0.673140      0.673140      0.673140      0.673140   \n",
       "25%        3.714718      3.714718      3.714718      3.714718      3.714718   \n",
       "50%        4.285431      4.285431      4.285431      4.285488      4.285488   \n",
       "75%        4.877342      4.877635      4.877851      4.877851      4.877851   \n",
       "max        5.846031      5.846031      5.846031      5.846031      5.846031   \n",
       "\n",
       "               -136          -128          -120          -112          -104  \\\n",
       "count  16990.000000  16990.000000  16990.000000  16990.000000  16990.000000   \n",
       "mean       4.194986      4.195048      4.195116      4.195202      4.195290   \n",
       "std        0.929783      0.929830      0.929886      0.929953      0.930012   \n",
       "min        0.673140      0.673140      0.673140      0.673140      0.673140   \n",
       "25%        3.714718      3.714718      3.714718      3.714718      3.714718   \n",
       "50%        4.285488      4.285488      4.285488      4.285640      4.285805   \n",
       "75%        4.877929      4.878074      4.878122      4.878229      4.878379   \n",
       "max        5.846031      5.846031      5.846031      5.846031      5.846031   \n",
       "\n",
       "           ...               -72           -64           -56           -48   \\\n",
       "count      ...       16990.000000  16991.000000  16992.000000  16993.000000   \n",
       "mean       ...           4.195661      4.195747      4.195830      4.195916   \n",
       "std        ...           0.930307      0.930347      0.930383      0.930423   \n",
       "min        ...           0.673140      0.673140      0.673140      0.673140   \n",
       "25%        ...           3.714718      3.714871      3.715024      3.715177   \n",
       "50%        ...           4.286297      4.286308      4.286353      4.286398   \n",
       "75%        ...           4.878704      4.878749      4.878815      4.878908   \n",
       "max        ...           5.846031      5.846031      5.846031      5.846031   \n",
       "\n",
       "               -40           -32           -24           -16           -8    \\\n",
       "count  16993.000000  16993.000000  16993.000000  16993.000000  16993.000000   \n",
       "mean       4.196002      4.196087      4.196171      4.196272      4.196376   \n",
       "std        0.930494      0.930559      0.930625      0.930695      0.930760   \n",
       "min        0.673140      0.673140      0.673140      0.673140      0.673140   \n",
       "25%        3.715177      3.715177      3.715177      3.715177      3.715177   \n",
       "50%        4.286427      4.286486      4.286688      4.286882      4.286953   \n",
       "75%        4.879299      4.879847      4.879974      4.880041      4.880074   \n",
       "max        5.846031      5.846031      5.846031      5.846031      5.846031   \n",
       "\n",
       "                0    \n",
       "count  16993.000000  \n",
       "mean       4.196480  \n",
       "std        0.930827  \n",
       "min        0.673140  \n",
       "25%        3.715177  \n",
       "50%        4.287055  \n",
       "75%        4.880388  \n",
       "max        5.846031  \n",
       "\n",
       "[8 rows x 23 columns]"
      ]
     },
     "execution_count": 29,
     "metadata": {},
     "output_type": "execute_result"
    }
   ],
   "source": [
    "vectors_Log_Flux.describe()"
   ]
  },
  {
   "cell_type": "code",
   "execution_count": 30,
   "metadata": {},
   "outputs": [
    {
     "data": {
      "text/html": [
       "<div>\n",
       "<style scoped>\n",
       "    .dataframe tbody tr th:only-of-type {\n",
       "        vertical-align: middle;\n",
       "    }\n",
       "\n",
       "    .dataframe tbody tr th {\n",
       "        vertical-align: top;\n",
       "    }\n",
       "\n",
       "    .dataframe thead th {\n",
       "        text-align: right;\n",
       "    }\n",
       "</style>\n",
       "<table border=\"1\" class=\"dataframe\">\n",
       "  <thead>\n",
       "    <tr style=\"text-align: right;\">\n",
       "      <th></th>\n",
       "      <th>-176</th>\n",
       "      <th>-168</th>\n",
       "      <th>-160</th>\n",
       "      <th>-152</th>\n",
       "      <th>-144</th>\n",
       "      <th>-136</th>\n",
       "      <th>-128</th>\n",
       "      <th>-120</th>\n",
       "      <th>-112</th>\n",
       "      <th>-104</th>\n",
       "      <th>...</th>\n",
       "      <th>-72</th>\n",
       "      <th>-64</th>\n",
       "      <th>-56</th>\n",
       "      <th>-48</th>\n",
       "      <th>-40</th>\n",
       "      <th>-32</th>\n",
       "      <th>-24</th>\n",
       "      <th>-16</th>\n",
       "      <th>-8</th>\n",
       "      <th>0</th>\n",
       "    </tr>\n",
       "  </thead>\n",
       "  <tbody>\n",
       "    <tr>\n",
       "      <th>2001-02-27 16:00:00</th>\n",
       "      <td>4.634165</td>\n",
       "      <td>4.434461</td>\n",
       "      <td>4.161827</td>\n",
       "      <td>4.387972</td>\n",
       "      <td>4.372389</td>\n",
       "      <td>4.387674</td>\n",
       "      <td>4.372046</td>\n",
       "      <td>4.186911</td>\n",
       "      <td>4.070880</td>\n",
       "      <td>4.111980</td>\n",
       "      <td>...</td>\n",
       "      <td>NaN</td>\n",
       "      <td>NaN</td>\n",
       "      <td>NaN</td>\n",
       "      <td>4.230052</td>\n",
       "      <td>4.188238</td>\n",
       "      <td>4.210421</td>\n",
       "      <td>3.977711</td>\n",
       "      <td>3.898104</td>\n",
       "      <td>3.917845</td>\n",
       "      <td>3.942029</td>\n",
       "    </tr>\n",
       "    <tr>\n",
       "      <th>2001-02-28 00:00:00</th>\n",
       "      <td>4.434461</td>\n",
       "      <td>4.161827</td>\n",
       "      <td>4.387972</td>\n",
       "      <td>4.372389</td>\n",
       "      <td>4.387674</td>\n",
       "      <td>4.372046</td>\n",
       "      <td>4.186911</td>\n",
       "      <td>4.070880</td>\n",
       "      <td>4.111980</td>\n",
       "      <td>4.203667</td>\n",
       "      <td>...</td>\n",
       "      <td>NaN</td>\n",
       "      <td>NaN</td>\n",
       "      <td>4.230052</td>\n",
       "      <td>4.188238</td>\n",
       "      <td>4.210421</td>\n",
       "      <td>3.977711</td>\n",
       "      <td>3.898104</td>\n",
       "      <td>3.917845</td>\n",
       "      <td>3.942029</td>\n",
       "      <td>4.003608</td>\n",
       "    </tr>\n",
       "    <tr>\n",
       "      <th>2001-02-28 08:00:00</th>\n",
       "      <td>4.161827</td>\n",
       "      <td>4.387972</td>\n",
       "      <td>4.372389</td>\n",
       "      <td>4.387674</td>\n",
       "      <td>4.372046</td>\n",
       "      <td>4.186911</td>\n",
       "      <td>4.070880</td>\n",
       "      <td>4.111980</td>\n",
       "      <td>4.203667</td>\n",
       "      <td>4.130074</td>\n",
       "      <td>...</td>\n",
       "      <td>NaN</td>\n",
       "      <td>4.230052</td>\n",
       "      <td>4.188238</td>\n",
       "      <td>4.210421</td>\n",
       "      <td>3.977711</td>\n",
       "      <td>3.898104</td>\n",
       "      <td>3.917845</td>\n",
       "      <td>3.942029</td>\n",
       "      <td>4.003608</td>\n",
       "      <td>4.014958</td>\n",
       "    </tr>\n",
       "    <tr>\n",
       "      <th>2001-02-28 16:00:00</th>\n",
       "      <td>4.387972</td>\n",
       "      <td>4.372389</td>\n",
       "      <td>4.387674</td>\n",
       "      <td>4.372046</td>\n",
       "      <td>4.186911</td>\n",
       "      <td>4.070880</td>\n",
       "      <td>4.111980</td>\n",
       "      <td>4.203667</td>\n",
       "      <td>4.130074</td>\n",
       "      <td>4.150070</td>\n",
       "      <td>...</td>\n",
       "      <td>4.230052</td>\n",
       "      <td>4.188238</td>\n",
       "      <td>4.210421</td>\n",
       "      <td>3.977711</td>\n",
       "      <td>3.898104</td>\n",
       "      <td>3.917845</td>\n",
       "      <td>3.942029</td>\n",
       "      <td>4.003608</td>\n",
       "      <td>4.014958</td>\n",
       "      <td>3.860508</td>\n",
       "    </tr>\n",
       "    <tr>\n",
       "      <th>2001-03-01 00:00:00</th>\n",
       "      <td>4.372389</td>\n",
       "      <td>4.387674</td>\n",
       "      <td>4.372046</td>\n",
       "      <td>4.186911</td>\n",
       "      <td>4.070880</td>\n",
       "      <td>4.111980</td>\n",
       "      <td>4.203667</td>\n",
       "      <td>4.130074</td>\n",
       "      <td>4.150070</td>\n",
       "      <td>NaN</td>\n",
       "      <td>...</td>\n",
       "      <td>4.188238</td>\n",
       "      <td>4.210421</td>\n",
       "      <td>3.977711</td>\n",
       "      <td>3.898104</td>\n",
       "      <td>3.917845</td>\n",
       "      <td>3.942029</td>\n",
       "      <td>4.003608</td>\n",
       "      <td>4.014958</td>\n",
       "      <td>3.860508</td>\n",
       "      <td>3.897270</td>\n",
       "    </tr>\n",
       "  </tbody>\n",
       "</table>\n",
       "<p>5 rows × 23 columns</p>\n",
       "</div>"
      ],
      "text/plain": [
       "                         -176      -168      -160      -152      -144  \\\n",
       "2001-02-27 16:00:00  4.634165  4.434461  4.161827  4.387972  4.372389   \n",
       "2001-02-28 00:00:00  4.434461  4.161827  4.387972  4.372389  4.387674   \n",
       "2001-02-28 08:00:00  4.161827  4.387972  4.372389  4.387674  4.372046   \n",
       "2001-02-28 16:00:00  4.387972  4.372389  4.387674  4.372046  4.186911   \n",
       "2001-03-01 00:00:00  4.372389  4.387674  4.372046  4.186911  4.070880   \n",
       "\n",
       "                         -136      -128      -120      -112      -104  \\\n",
       "2001-02-27 16:00:00  4.387674  4.372046  4.186911  4.070880  4.111980   \n",
       "2001-02-28 00:00:00  4.372046  4.186911  4.070880  4.111980  4.203667   \n",
       "2001-02-28 08:00:00  4.186911  4.070880  4.111980  4.203667  4.130074   \n",
       "2001-02-28 16:00:00  4.070880  4.111980  4.203667  4.130074  4.150070   \n",
       "2001-03-01 00:00:00  4.111980  4.203667  4.130074  4.150070       NaN   \n",
       "\n",
       "                       ...         -72       -64       -56       -48   \\\n",
       "2001-02-27 16:00:00    ...          NaN       NaN       NaN  4.230052   \n",
       "2001-02-28 00:00:00    ...          NaN       NaN  4.230052  4.188238   \n",
       "2001-02-28 08:00:00    ...          NaN  4.230052  4.188238  4.210421   \n",
       "2001-02-28 16:00:00    ...     4.230052  4.188238  4.210421  3.977711   \n",
       "2001-03-01 00:00:00    ...     4.188238  4.210421  3.977711  3.898104   \n",
       "\n",
       "                         -40       -32       -24       -16       -8    \\\n",
       "2001-02-27 16:00:00  4.188238  4.210421  3.977711  3.898104  3.917845   \n",
       "2001-02-28 00:00:00  4.210421  3.977711  3.898104  3.917845  3.942029   \n",
       "2001-02-28 08:00:00  3.977711  3.898104  3.917845  3.942029  4.003608   \n",
       "2001-02-28 16:00:00  3.898104  3.917845  3.942029  4.003608  4.014958   \n",
       "2001-03-01 00:00:00  3.917845  3.942029  4.003608  4.014958  3.860508   \n",
       "\n",
       "                          0    \n",
       "2001-02-27 16:00:00  3.942029  \n",
       "2001-02-28 00:00:00  4.003608  \n",
       "2001-02-28 08:00:00  4.014958  \n",
       "2001-02-28 16:00:00  3.860508  \n",
       "2001-03-01 00:00:00  3.897270  \n",
       "\n",
       "[5 rows x 23 columns]"
      ]
     },
     "execution_count": 30,
     "metadata": {},
     "output_type": "execute_result"
    }
   ],
   "source": [
    "vectors_Log_Flux.head()"
   ]
  },
  {
   "cell_type": "code",
   "execution_count": 31,
   "metadata": {},
   "outputs": [],
   "source": [
    "# drop any with na\n",
    "vectors_Log_Flux.dropna(how='any', inplace=True)\n",
    "vectors_Log_Flux_std.dropna(how='any', inplace=True)"
   ]
  },
  {
   "cell_type": "code",
   "execution_count": 32,
   "metadata": {},
   "outputs": [
    {
     "data": {
      "text/html": [
       "<div>\n",
       "<style scoped>\n",
       "    .dataframe tbody tr th:only-of-type {\n",
       "        vertical-align: middle;\n",
       "    }\n",
       "\n",
       "    .dataframe tbody tr th {\n",
       "        vertical-align: top;\n",
       "    }\n",
       "\n",
       "    .dataframe thead th {\n",
       "        text-align: right;\n",
       "    }\n",
       "</style>\n",
       "<table border=\"1\" class=\"dataframe\">\n",
       "  <thead>\n",
       "    <tr style=\"text-align: right;\">\n",
       "      <th></th>\n",
       "      <th>-176</th>\n",
       "      <th>-168</th>\n",
       "      <th>-160</th>\n",
       "      <th>-152</th>\n",
       "      <th>-144</th>\n",
       "      <th>-136</th>\n",
       "      <th>-128</th>\n",
       "      <th>-120</th>\n",
       "      <th>-112</th>\n",
       "      <th>-104</th>\n",
       "      <th>...</th>\n",
       "      <th>-72</th>\n",
       "      <th>-64</th>\n",
       "      <th>-56</th>\n",
       "      <th>-48</th>\n",
       "      <th>-40</th>\n",
       "      <th>-32</th>\n",
       "      <th>-24</th>\n",
       "      <th>-16</th>\n",
       "      <th>-8</th>\n",
       "      <th>0</th>\n",
       "    </tr>\n",
       "  </thead>\n",
       "  <tbody>\n",
       "    <tr>\n",
       "      <th>count</th>\n",
       "      <td>15470.000000</td>\n",
       "      <td>15470.000000</td>\n",
       "      <td>15470.000000</td>\n",
       "      <td>15470.000000</td>\n",
       "      <td>15470.000000</td>\n",
       "      <td>15470.000000</td>\n",
       "      <td>15470.000000</td>\n",
       "      <td>15470.000000</td>\n",
       "      <td>15470.000000</td>\n",
       "      <td>15470.000000</td>\n",
       "      <td>...</td>\n",
       "      <td>15470.000000</td>\n",
       "      <td>15470.000000</td>\n",
       "      <td>15470.000000</td>\n",
       "      <td>15470.000000</td>\n",
       "      <td>15470.000000</td>\n",
       "      <td>15470.000000</td>\n",
       "      <td>15470.000000</td>\n",
       "      <td>15470.000000</td>\n",
       "      <td>15470.000000</td>\n",
       "      <td>15470.000000</td>\n",
       "    </tr>\n",
       "    <tr>\n",
       "      <th>mean</th>\n",
       "      <td>4.212822</td>\n",
       "      <td>4.212317</td>\n",
       "      <td>4.211699</td>\n",
       "      <td>4.210867</td>\n",
       "      <td>4.210064</td>\n",
       "      <td>4.209186</td>\n",
       "      <td>4.208226</td>\n",
       "      <td>4.207527</td>\n",
       "      <td>4.206848</td>\n",
       "      <td>4.206054</td>\n",
       "      <td>...</td>\n",
       "      <td>4.203099</td>\n",
       "      <td>4.202295</td>\n",
       "      <td>4.201441</td>\n",
       "      <td>4.200539</td>\n",
       "      <td>4.199893</td>\n",
       "      <td>4.199121</td>\n",
       "      <td>4.198184</td>\n",
       "      <td>4.197119</td>\n",
       "      <td>4.195699</td>\n",
       "      <td>4.194754</td>\n",
       "    </tr>\n",
       "    <tr>\n",
       "      <th>std</th>\n",
       "      <td>0.900627</td>\n",
       "      <td>0.899778</td>\n",
       "      <td>0.898709</td>\n",
       "      <td>0.897600</td>\n",
       "      <td>0.896600</td>\n",
       "      <td>0.895581</td>\n",
       "      <td>0.894477</td>\n",
       "      <td>0.893372</td>\n",
       "      <td>0.892324</td>\n",
       "      <td>0.891392</td>\n",
       "      <td>...</td>\n",
       "      <td>0.888130</td>\n",
       "      <td>0.887303</td>\n",
       "      <td>0.886489</td>\n",
       "      <td>0.885889</td>\n",
       "      <td>0.885092</td>\n",
       "      <td>0.884458</td>\n",
       "      <td>0.883976</td>\n",
       "      <td>0.883498</td>\n",
       "      <td>0.883416</td>\n",
       "      <td>0.882915</td>\n",
       "    </tr>\n",
       "    <tr>\n",
       "      <th>min</th>\n",
       "      <td>0.673140</td>\n",
       "      <td>0.673140</td>\n",
       "      <td>0.911016</td>\n",
       "      <td>1.140065</td>\n",
       "      <td>1.140065</td>\n",
       "      <td>1.140065</td>\n",
       "      <td>1.140065</td>\n",
       "      <td>1.251469</td>\n",
       "      <td>1.251469</td>\n",
       "      <td>1.251469</td>\n",
       "      <td>...</td>\n",
       "      <td>1.251469</td>\n",
       "      <td>1.251469</td>\n",
       "      <td>1.299777</td>\n",
       "      <td>1.299777</td>\n",
       "      <td>1.299777</td>\n",
       "      <td>1.299777</td>\n",
       "      <td>1.299777</td>\n",
       "      <td>1.299777</td>\n",
       "      <td>1.299777</td>\n",
       "      <td>1.299777</td>\n",
       "    </tr>\n",
       "    <tr>\n",
       "      <th>25%</th>\n",
       "      <td>3.740960</td>\n",
       "      <td>3.740365</td>\n",
       "      <td>3.740365</td>\n",
       "      <td>3.740222</td>\n",
       "      <td>3.740222</td>\n",
       "      <td>3.740042</td>\n",
       "      <td>3.739952</td>\n",
       "      <td>3.739708</td>\n",
       "      <td>3.739952</td>\n",
       "      <td>3.739952</td>\n",
       "      <td>...</td>\n",
       "      <td>3.739527</td>\n",
       "      <td>3.739708</td>\n",
       "      <td>3.739708</td>\n",
       "      <td>3.739527</td>\n",
       "      <td>3.739376</td>\n",
       "      <td>3.738949</td>\n",
       "      <td>3.738376</td>\n",
       "      <td>3.737383</td>\n",
       "      <td>3.736805</td>\n",
       "      <td>3.736283</td>\n",
       "    </tr>\n",
       "    <tr>\n",
       "      <th>50%</th>\n",
       "      <td>4.288394</td>\n",
       "      <td>4.288524</td>\n",
       "      <td>4.288524</td>\n",
       "      <td>4.288524</td>\n",
       "      <td>4.288643</td>\n",
       "      <td>4.288394</td>\n",
       "      <td>4.287774</td>\n",
       "      <td>4.288331</td>\n",
       "      <td>4.288069</td>\n",
       "      <td>4.287362</td>\n",
       "      <td>...</td>\n",
       "      <td>4.285640</td>\n",
       "      <td>4.284885</td>\n",
       "      <td>4.283801</td>\n",
       "      <td>4.281809</td>\n",
       "      <td>4.279947</td>\n",
       "      <td>4.279177</td>\n",
       "      <td>4.278002</td>\n",
       "      <td>4.276259</td>\n",
       "      <td>4.273933</td>\n",
       "      <td>4.273146</td>\n",
       "    </tr>\n",
       "    <tr>\n",
       "      <th>75%</th>\n",
       "      <td>4.883973</td>\n",
       "      <td>4.883395</td>\n",
       "      <td>4.881790</td>\n",
       "      <td>4.880066</td>\n",
       "      <td>4.878419</td>\n",
       "      <td>4.876744</td>\n",
       "      <td>4.873830</td>\n",
       "      <td>4.871949</td>\n",
       "      <td>4.869311</td>\n",
       "      <td>4.867180</td>\n",
       "      <td>...</td>\n",
       "      <td>4.859914</td>\n",
       "      <td>4.857505</td>\n",
       "      <td>4.855816</td>\n",
       "      <td>4.853295</td>\n",
       "      <td>4.850875</td>\n",
       "      <td>4.847872</td>\n",
       "      <td>4.846260</td>\n",
       "      <td>4.845012</td>\n",
       "      <td>4.842528</td>\n",
       "      <td>4.840426</td>\n",
       "    </tr>\n",
       "    <tr>\n",
       "      <th>max</th>\n",
       "      <td>5.846031</td>\n",
       "      <td>5.846031</td>\n",
       "      <td>5.846031</td>\n",
       "      <td>5.846031</td>\n",
       "      <td>5.846031</td>\n",
       "      <td>5.829264</td>\n",
       "      <td>5.825294</td>\n",
       "      <td>5.825294</td>\n",
       "      <td>5.825294</td>\n",
       "      <td>5.825294</td>\n",
       "      <td>...</td>\n",
       "      <td>5.825294</td>\n",
       "      <td>5.825294</td>\n",
       "      <td>5.825294</td>\n",
       "      <td>5.825294</td>\n",
       "      <td>5.825294</td>\n",
       "      <td>5.825294</td>\n",
       "      <td>5.825294</td>\n",
       "      <td>5.825294</td>\n",
       "      <td>5.825294</td>\n",
       "      <td>5.825294</td>\n",
       "    </tr>\n",
       "  </tbody>\n",
       "</table>\n",
       "<p>8 rows × 23 columns</p>\n",
       "</div>"
      ],
      "text/plain": [
       "               -176          -168          -160          -152          -144  \\\n",
       "count  15470.000000  15470.000000  15470.000000  15470.000000  15470.000000   \n",
       "mean       4.212822      4.212317      4.211699      4.210867      4.210064   \n",
       "std        0.900627      0.899778      0.898709      0.897600      0.896600   \n",
       "min        0.673140      0.673140      0.911016      1.140065      1.140065   \n",
       "25%        3.740960      3.740365      3.740365      3.740222      3.740222   \n",
       "50%        4.288394      4.288524      4.288524      4.288524      4.288643   \n",
       "75%        4.883973      4.883395      4.881790      4.880066      4.878419   \n",
       "max        5.846031      5.846031      5.846031      5.846031      5.846031   \n",
       "\n",
       "               -136          -128          -120          -112          -104  \\\n",
       "count  15470.000000  15470.000000  15470.000000  15470.000000  15470.000000   \n",
       "mean       4.209186      4.208226      4.207527      4.206848      4.206054   \n",
       "std        0.895581      0.894477      0.893372      0.892324      0.891392   \n",
       "min        1.140065      1.140065      1.251469      1.251469      1.251469   \n",
       "25%        3.740042      3.739952      3.739708      3.739952      3.739952   \n",
       "50%        4.288394      4.287774      4.288331      4.288069      4.287362   \n",
       "75%        4.876744      4.873830      4.871949      4.869311      4.867180   \n",
       "max        5.829264      5.825294      5.825294      5.825294      5.825294   \n",
       "\n",
       "           ...               -72           -64           -56           -48   \\\n",
       "count      ...       15470.000000  15470.000000  15470.000000  15470.000000   \n",
       "mean       ...           4.203099      4.202295      4.201441      4.200539   \n",
       "std        ...           0.888130      0.887303      0.886489      0.885889   \n",
       "min        ...           1.251469      1.251469      1.299777      1.299777   \n",
       "25%        ...           3.739527      3.739708      3.739708      3.739527   \n",
       "50%        ...           4.285640      4.284885      4.283801      4.281809   \n",
       "75%        ...           4.859914      4.857505      4.855816      4.853295   \n",
       "max        ...           5.825294      5.825294      5.825294      5.825294   \n",
       "\n",
       "               -40           -32           -24           -16           -8    \\\n",
       "count  15470.000000  15470.000000  15470.000000  15470.000000  15470.000000   \n",
       "mean       4.199893      4.199121      4.198184      4.197119      4.195699   \n",
       "std        0.885092      0.884458      0.883976      0.883498      0.883416   \n",
       "min        1.299777      1.299777      1.299777      1.299777      1.299777   \n",
       "25%        3.739376      3.738949      3.738376      3.737383      3.736805   \n",
       "50%        4.279947      4.279177      4.278002      4.276259      4.273933   \n",
       "75%        4.850875      4.847872      4.846260      4.845012      4.842528   \n",
       "max        5.825294      5.825294      5.825294      5.825294      5.825294   \n",
       "\n",
       "                0    \n",
       "count  15470.000000  \n",
       "mean       4.194754  \n",
       "std        0.882915  \n",
       "min        1.299777  \n",
       "25%        3.736283  \n",
       "50%        4.273146  \n",
       "75%        4.840426  \n",
       "max        5.825294  \n",
       "\n",
       "[8 rows x 23 columns]"
      ]
     },
     "execution_count": 32,
     "metadata": {},
     "output_type": "execute_result"
    }
   ],
   "source": [
    "vectors_Log_Flux.describe()"
   ]
  },
  {
   "cell_type": "code",
   "execution_count": 33,
   "metadata": {},
   "outputs": [
    {
     "data": {
      "text/html": [
       "<div>\n",
       "<style scoped>\n",
       "    .dataframe tbody tr th:only-of-type {\n",
       "        vertical-align: middle;\n",
       "    }\n",
       "\n",
       "    .dataframe tbody tr th {\n",
       "        vertical-align: top;\n",
       "    }\n",
       "\n",
       "    .dataframe thead th {\n",
       "        text-align: right;\n",
       "    }\n",
       "</style>\n",
       "<table border=\"1\" class=\"dataframe\">\n",
       "  <thead>\n",
       "    <tr style=\"text-align: right;\">\n",
       "      <th></th>\n",
       "      <th>-176</th>\n",
       "      <th>-168</th>\n",
       "      <th>-160</th>\n",
       "      <th>-152</th>\n",
       "      <th>-144</th>\n",
       "      <th>-136</th>\n",
       "      <th>-128</th>\n",
       "      <th>-120</th>\n",
       "      <th>-112</th>\n",
       "      <th>-104</th>\n",
       "      <th>...</th>\n",
       "      <th>-72</th>\n",
       "      <th>-64</th>\n",
       "      <th>-56</th>\n",
       "      <th>-48</th>\n",
       "      <th>-40</th>\n",
       "      <th>-32</th>\n",
       "      <th>-24</th>\n",
       "      <th>-16</th>\n",
       "      <th>-8</th>\n",
       "      <th>0</th>\n",
       "    </tr>\n",
       "  </thead>\n",
       "  <tbody>\n",
       "    <tr>\n",
       "      <th>2001-03-05 00:00:00</th>\n",
       "      <td>4.230052</td>\n",
       "      <td>4.188238</td>\n",
       "      <td>4.210421</td>\n",
       "      <td>3.977711</td>\n",
       "      <td>3.898104</td>\n",
       "      <td>3.917845</td>\n",
       "      <td>3.942029</td>\n",
       "      <td>4.003608</td>\n",
       "      <td>4.014958</td>\n",
       "      <td>3.860508</td>\n",
       "      <td>...</td>\n",
       "      <td>3.911046</td>\n",
       "      <td>3.928502</td>\n",
       "      <td>3.793408</td>\n",
       "      <td>3.784470</td>\n",
       "      <td>3.855668</td>\n",
       "      <td>3.717050</td>\n",
       "      <td>3.821758</td>\n",
       "      <td>3.766279</td>\n",
       "      <td>3.680458</td>\n",
       "      <td>3.351676</td>\n",
       "    </tr>\n",
       "    <tr>\n",
       "      <th>2001-03-05 08:00:00</th>\n",
       "      <td>4.188238</td>\n",
       "      <td>4.210421</td>\n",
       "      <td>3.977711</td>\n",
       "      <td>3.898104</td>\n",
       "      <td>3.917845</td>\n",
       "      <td>3.942029</td>\n",
       "      <td>4.003608</td>\n",
       "      <td>4.014958</td>\n",
       "      <td>3.860508</td>\n",
       "      <td>3.897270</td>\n",
       "      <td>...</td>\n",
       "      <td>3.928502</td>\n",
       "      <td>3.793408</td>\n",
       "      <td>3.784470</td>\n",
       "      <td>3.855668</td>\n",
       "      <td>3.717050</td>\n",
       "      <td>3.821758</td>\n",
       "      <td>3.766279</td>\n",
       "      <td>3.680458</td>\n",
       "      <td>3.351676</td>\n",
       "      <td>3.921449</td>\n",
       "    </tr>\n",
       "    <tr>\n",
       "      <th>2001-03-05 16:00:00</th>\n",
       "      <td>4.210421</td>\n",
       "      <td>3.977711</td>\n",
       "      <td>3.898104</td>\n",
       "      <td>3.917845</td>\n",
       "      <td>3.942029</td>\n",
       "      <td>4.003608</td>\n",
       "      <td>4.014958</td>\n",
       "      <td>3.860508</td>\n",
       "      <td>3.897270</td>\n",
       "      <td>3.943971</td>\n",
       "      <td>...</td>\n",
       "      <td>3.793408</td>\n",
       "      <td>3.784470</td>\n",
       "      <td>3.855668</td>\n",
       "      <td>3.717050</td>\n",
       "      <td>3.821758</td>\n",
       "      <td>3.766279</td>\n",
       "      <td>3.680458</td>\n",
       "      <td>3.351676</td>\n",
       "      <td>3.921449</td>\n",
       "      <td>4.001014</td>\n",
       "    </tr>\n",
       "    <tr>\n",
       "      <th>2001-03-06 00:00:00</th>\n",
       "      <td>3.977711</td>\n",
       "      <td>3.898104</td>\n",
       "      <td>3.917845</td>\n",
       "      <td>3.942029</td>\n",
       "      <td>4.003608</td>\n",
       "      <td>4.014958</td>\n",
       "      <td>3.860508</td>\n",
       "      <td>3.897270</td>\n",
       "      <td>3.943971</td>\n",
       "      <td>3.880009</td>\n",
       "      <td>...</td>\n",
       "      <td>3.784470</td>\n",
       "      <td>3.855668</td>\n",
       "      <td>3.717050</td>\n",
       "      <td>3.821758</td>\n",
       "      <td>3.766279</td>\n",
       "      <td>3.680458</td>\n",
       "      <td>3.351676</td>\n",
       "      <td>3.921449</td>\n",
       "      <td>4.001014</td>\n",
       "      <td>4.088572</td>\n",
       "    </tr>\n",
       "    <tr>\n",
       "      <th>2001-03-06 08:00:00</th>\n",
       "      <td>3.898104</td>\n",
       "      <td>3.917845</td>\n",
       "      <td>3.942029</td>\n",
       "      <td>4.003608</td>\n",
       "      <td>4.014958</td>\n",
       "      <td>3.860508</td>\n",
       "      <td>3.897270</td>\n",
       "      <td>3.943971</td>\n",
       "      <td>3.880009</td>\n",
       "      <td>3.911046</td>\n",
       "      <td>...</td>\n",
       "      <td>3.855668</td>\n",
       "      <td>3.717050</td>\n",
       "      <td>3.821758</td>\n",
       "      <td>3.766279</td>\n",
       "      <td>3.680458</td>\n",
       "      <td>3.351676</td>\n",
       "      <td>3.921449</td>\n",
       "      <td>4.001014</td>\n",
       "      <td>4.088572</td>\n",
       "      <td>4.191841</td>\n",
       "    </tr>\n",
       "  </tbody>\n",
       "</table>\n",
       "<p>5 rows × 23 columns</p>\n",
       "</div>"
      ],
      "text/plain": [
       "                         -176      -168      -160      -152      -144  \\\n",
       "2001-03-05 00:00:00  4.230052  4.188238  4.210421  3.977711  3.898104   \n",
       "2001-03-05 08:00:00  4.188238  4.210421  3.977711  3.898104  3.917845   \n",
       "2001-03-05 16:00:00  4.210421  3.977711  3.898104  3.917845  3.942029   \n",
       "2001-03-06 00:00:00  3.977711  3.898104  3.917845  3.942029  4.003608   \n",
       "2001-03-06 08:00:00  3.898104  3.917845  3.942029  4.003608  4.014958   \n",
       "\n",
       "                         -136      -128      -120      -112      -104  \\\n",
       "2001-03-05 00:00:00  3.917845  3.942029  4.003608  4.014958  3.860508   \n",
       "2001-03-05 08:00:00  3.942029  4.003608  4.014958  3.860508  3.897270   \n",
       "2001-03-05 16:00:00  4.003608  4.014958  3.860508  3.897270  3.943971   \n",
       "2001-03-06 00:00:00  4.014958  3.860508  3.897270  3.943971  3.880009   \n",
       "2001-03-06 08:00:00  3.860508  3.897270  3.943971  3.880009  3.911046   \n",
       "\n",
       "                       ...         -72       -64       -56       -48   \\\n",
       "2001-03-05 00:00:00    ...     3.911046  3.928502  3.793408  3.784470   \n",
       "2001-03-05 08:00:00    ...     3.928502  3.793408  3.784470  3.855668   \n",
       "2001-03-05 16:00:00    ...     3.793408  3.784470  3.855668  3.717050   \n",
       "2001-03-06 00:00:00    ...     3.784470  3.855668  3.717050  3.821758   \n",
       "2001-03-06 08:00:00    ...     3.855668  3.717050  3.821758  3.766279   \n",
       "\n",
       "                         -40       -32       -24       -16       -8    \\\n",
       "2001-03-05 00:00:00  3.855668  3.717050  3.821758  3.766279  3.680458   \n",
       "2001-03-05 08:00:00  3.717050  3.821758  3.766279  3.680458  3.351676   \n",
       "2001-03-05 16:00:00  3.821758  3.766279  3.680458  3.351676  3.921449   \n",
       "2001-03-06 00:00:00  3.766279  3.680458  3.351676  3.921449  4.001014   \n",
       "2001-03-06 08:00:00  3.680458  3.351676  3.921449  4.001014  4.088572   \n",
       "\n",
       "                          0    \n",
       "2001-03-05 00:00:00  3.351676  \n",
       "2001-03-05 08:00:00  3.921449  \n",
       "2001-03-05 16:00:00  4.001014  \n",
       "2001-03-06 00:00:00  4.088572  \n",
       "2001-03-06 08:00:00  4.191841  \n",
       "\n",
       "[5 rows x 23 columns]"
      ]
     },
     "execution_count": 33,
     "metadata": {},
     "output_type": "execute_result"
    }
   ],
   "source": [
    "vectors_Log_Flux.head()"
   ]
  },
  {
   "cell_type": "code",
   "execution_count": 34,
   "metadata": {},
   "outputs": [
    {
     "data": {
      "text/plain": [
       "<matplotlib.axes._subplots.AxesSubplot at 0xa2818dcc0>"
      ]
     },
     "execution_count": 34,
     "metadata": {},
     "output_type": "execute_result"
    },
    {
     "data": {
      "image/png": "[encoded data removed]",
      "text/plain": [
       "<Figure size 720x432 with 1 Axes>"
      ]
     },
     "metadata": {
      "needs_background": "light"
     },
     "output_type": "display_data"
    }
   ],
   "source": [
    "vectors_Log_Flux[[-16,-8,0]].loc['2002-01'].plot(figsize=(10,6))\n"
   ]
  },
  {
   "cell_type": "code",
   "execution_count": 35,
   "metadata": {},
   "outputs": [
    {
     "data": {
      "text/plain": [
       "<matplotlib.axes._subplots.AxesSubplot at 0xa282d9198>"
      ]
     },
     "execution_count": 35,
     "metadata": {},
     "output_type": "execute_result"
    },
    {
     "data": {
      "image/png": "[encoded data removed]",
      "text/plain": [
       "<Figure size 720x432 with 1 Axes>"
      ]
     },
     "metadata": {
      "needs_background": "light"
     },
     "output_type": "display_data"
    }
   ],
   "source": [
    "vectors_Log_Flux.loc['2002-01-31T16:00'].plot(figsize=(10,6))\n",
    "vectors_Log_Flux.loc['2002-02-1T00:00'].plot(figsize=(10,6))"
   ]
  },
  {
   "cell_type": "code",
   "execution_count": 36,
   "metadata": {},
   "outputs": [
    {
     "data": {
      "text/plain": [
       "<matplotlib.axes._subplots.AxesSubplot at 0xa27cc0438>"
      ]
     },
     "execution_count": 36,
     "metadata": {},
     "output_type": "execute_result"
    },
    {
     "data": {
      "image/png": "[encoded data removed]",
      "text/plain": [
       "<Figure size 720x432 with 1 Axes>"
      ]
     },
     "metadata": {
      "needs_background": "light"
     },
     "output_type": "display_data"
    }
   ],
   "source": [
    "vectors_Log_Flux_std[[-16,-8,0]].loc['2002-01'].plot(figsize=(10,6))\n"
   ]
  },
  {
   "cell_type": "code",
   "execution_count": 37,
   "metadata": {},
   "outputs": [
    {
     "data": {
      "text/plain": [
       "<matplotlib.axes._subplots.AxesSubplot at 0xa27ebebe0>"
      ]
     },
     "execution_count": 37,
     "metadata": {},
     "output_type": "execute_result"
    },
    {
     "data": {
      "image/png": "[encoded data removed]",
      "text/plain": [
       "<Figure size 720x432 with 1 Axes>"
      ]
     },
     "metadata": {
      "needs_background": "light"
     },
     "output_type": "display_data"
    }
   ],
   "source": [
    "vectors_Log_Flux_std.loc['2002-01-31T16:00'].plot(figsize=(10,6))\n",
    "vectors_Log_Flux_std.loc['2002-02-1T00:00'].plot(figsize=(10,6))"
   ]
  },
  {
   "cell_type": "code",
   "execution_count": 38,
   "metadata": {},
   "outputs": [
    {
     "data": {
      "text/html": [
       "<div>\n",
       "<style scoped>\n",
       "    .dataframe tbody tr th:only-of-type {\n",
       "        vertical-align: middle;\n",
       "    }\n",
       "\n",
       "    .dataframe tbody tr th {\n",
       "        vertical-align: top;\n",
       "    }\n",
       "\n",
       "    .dataframe thead th {\n",
       "        text-align: right;\n",
       "    }\n",
       "</style>\n",
       "<table border=\"1\" class=\"dataframe\">\n",
       "  <thead>\n",
       "    <tr style=\"text-align: right;\">\n",
       "      <th></th>\n",
       "      <th>-176</th>\n",
       "      <th>-168</th>\n",
       "      <th>-160</th>\n",
       "      <th>-152</th>\n",
       "      <th>-144</th>\n",
       "      <th>-136</th>\n",
       "      <th>-128</th>\n",
       "      <th>-120</th>\n",
       "      <th>-112</th>\n",
       "      <th>-104</th>\n",
       "      <th>...</th>\n",
       "      <th>-72</th>\n",
       "      <th>-64</th>\n",
       "      <th>-56</th>\n",
       "      <th>-48</th>\n",
       "      <th>-40</th>\n",
       "      <th>-32</th>\n",
       "      <th>-24</th>\n",
       "      <th>-16</th>\n",
       "      <th>-8</th>\n",
       "      <th>0</th>\n",
       "    </tr>\n",
       "  </thead>\n",
       "  <tbody>\n",
       "    <tr>\n",
       "      <th>2001-03-05 00:00:00</th>\n",
       "      <td>0.032677</td>\n",
       "      <td>-0.012735</td>\n",
       "      <td>0.011357</td>\n",
       "      <td>-0.241380</td>\n",
       "      <td>-0.327837</td>\n",
       "      <td>-0.306398</td>\n",
       "      <td>-0.280132</td>\n",
       "      <td>-0.213254</td>\n",
       "      <td>-0.200928</td>\n",
       "      <td>-0.368669</td>\n",
       "      <td>...</td>\n",
       "      <td>-0.313781</td>\n",
       "      <td>-0.294824</td>\n",
       "      <td>-0.441543</td>\n",
       "      <td>-0.451251</td>\n",
       "      <td>-0.373926</td>\n",
       "      <td>-0.524472</td>\n",
       "      <td>-0.410753</td>\n",
       "      <td>-0.471007</td>\n",
       "      <td>-0.564213</td>\n",
       "      <td>-0.921289</td>\n",
       "    </tr>\n",
       "    <tr>\n",
       "      <th>2001-03-05 08:00:00</th>\n",
       "      <td>-0.012735</td>\n",
       "      <td>0.011357</td>\n",
       "      <td>-0.241380</td>\n",
       "      <td>-0.327837</td>\n",
       "      <td>-0.306398</td>\n",
       "      <td>-0.280132</td>\n",
       "      <td>-0.213254</td>\n",
       "      <td>-0.200928</td>\n",
       "      <td>-0.368669</td>\n",
       "      <td>-0.328743</td>\n",
       "      <td>...</td>\n",
       "      <td>-0.294824</td>\n",
       "      <td>-0.441543</td>\n",
       "      <td>-0.451251</td>\n",
       "      <td>-0.373926</td>\n",
       "      <td>-0.524472</td>\n",
       "      <td>-0.410753</td>\n",
       "      <td>-0.471007</td>\n",
       "      <td>-0.564213</td>\n",
       "      <td>-0.921289</td>\n",
       "      <td>-0.302484</td>\n",
       "    </tr>\n",
       "    <tr>\n",
       "      <th>2001-03-05 16:00:00</th>\n",
       "      <td>0.011357</td>\n",
       "      <td>-0.241380</td>\n",
       "      <td>-0.327837</td>\n",
       "      <td>-0.306398</td>\n",
       "      <td>-0.280132</td>\n",
       "      <td>-0.213254</td>\n",
       "      <td>-0.200928</td>\n",
       "      <td>-0.368669</td>\n",
       "      <td>-0.328743</td>\n",
       "      <td>-0.278023</td>\n",
       "      <td>...</td>\n",
       "      <td>-0.441543</td>\n",
       "      <td>-0.451251</td>\n",
       "      <td>-0.373926</td>\n",
       "      <td>-0.524472</td>\n",
       "      <td>-0.410753</td>\n",
       "      <td>-0.471007</td>\n",
       "      <td>-0.564213</td>\n",
       "      <td>-0.921289</td>\n",
       "      <td>-0.302484</td>\n",
       "      <td>-0.216071</td>\n",
       "    </tr>\n",
       "    <tr>\n",
       "      <th>2001-03-06 00:00:00</th>\n",
       "      <td>-0.241380</td>\n",
       "      <td>-0.327837</td>\n",
       "      <td>-0.306398</td>\n",
       "      <td>-0.280132</td>\n",
       "      <td>-0.213254</td>\n",
       "      <td>-0.200928</td>\n",
       "      <td>-0.368669</td>\n",
       "      <td>-0.328743</td>\n",
       "      <td>-0.278023</td>\n",
       "      <td>-0.347489</td>\n",
       "      <td>...</td>\n",
       "      <td>-0.451251</td>\n",
       "      <td>-0.373926</td>\n",
       "      <td>-0.524472</td>\n",
       "      <td>-0.410753</td>\n",
       "      <td>-0.471007</td>\n",
       "      <td>-0.564213</td>\n",
       "      <td>-0.921289</td>\n",
       "      <td>-0.302484</td>\n",
       "      <td>-0.216071</td>\n",
       "      <td>-0.120979</td>\n",
       "    </tr>\n",
       "    <tr>\n",
       "      <th>2001-03-06 08:00:00</th>\n",
       "      <td>-0.327837</td>\n",
       "      <td>-0.306398</td>\n",
       "      <td>-0.280132</td>\n",
       "      <td>-0.213254</td>\n",
       "      <td>-0.200928</td>\n",
       "      <td>-0.368669</td>\n",
       "      <td>-0.328743</td>\n",
       "      <td>-0.278023</td>\n",
       "      <td>-0.347489</td>\n",
       "      <td>-0.313781</td>\n",
       "      <td>...</td>\n",
       "      <td>-0.373926</td>\n",
       "      <td>-0.524472</td>\n",
       "      <td>-0.410753</td>\n",
       "      <td>-0.471007</td>\n",
       "      <td>-0.564213</td>\n",
       "      <td>-0.921289</td>\n",
       "      <td>-0.302484</td>\n",
       "      <td>-0.216071</td>\n",
       "      <td>-0.120979</td>\n",
       "      <td>-0.008822</td>\n",
       "    </tr>\n",
       "  </tbody>\n",
       "</table>\n",
       "<p>5 rows × 23 columns</p>\n",
       "</div>"
      ],
      "text/plain": [
       "                         -176      -168      -160      -152      -144  \\\n",
       "2001-03-05 00:00:00  0.032677 -0.012735  0.011357 -0.241380 -0.327837   \n",
       "2001-03-05 08:00:00 -0.012735  0.011357 -0.241380 -0.327837 -0.306398   \n",
       "2001-03-05 16:00:00  0.011357 -0.241380 -0.327837 -0.306398 -0.280132   \n",
       "2001-03-06 00:00:00 -0.241380 -0.327837 -0.306398 -0.280132 -0.213254   \n",
       "2001-03-06 08:00:00 -0.327837 -0.306398 -0.280132 -0.213254 -0.200928   \n",
       "\n",
       "                         -136      -128      -120      -112      -104  \\\n",
       "2001-03-05 00:00:00 -0.306398 -0.280132 -0.213254 -0.200928 -0.368669   \n",
       "2001-03-05 08:00:00 -0.280132 -0.213254 -0.200928 -0.368669 -0.328743   \n",
       "2001-03-05 16:00:00 -0.213254 -0.200928 -0.368669 -0.328743 -0.278023   \n",
       "2001-03-06 00:00:00 -0.200928 -0.368669 -0.328743 -0.278023 -0.347489   \n",
       "2001-03-06 08:00:00 -0.368669 -0.328743 -0.278023 -0.347489 -0.313781   \n",
       "\n",
       "                       ...         -72       -64       -56       -48   \\\n",
       "2001-03-05 00:00:00    ...    -0.313781 -0.294824 -0.441543 -0.451251   \n",
       "2001-03-05 08:00:00    ...    -0.294824 -0.441543 -0.451251 -0.373926   \n",
       "2001-03-05 16:00:00    ...    -0.441543 -0.451251 -0.373926 -0.524472   \n",
       "2001-03-06 00:00:00    ...    -0.451251 -0.373926 -0.524472 -0.410753   \n",
       "2001-03-06 08:00:00    ...    -0.373926 -0.524472 -0.410753 -0.471007   \n",
       "\n",
       "                         -40       -32       -24       -16       -8    \\\n",
       "2001-03-05 00:00:00 -0.373926 -0.524472 -0.410753 -0.471007 -0.564213   \n",
       "2001-03-05 08:00:00 -0.524472 -0.410753 -0.471007 -0.564213 -0.921289   \n",
       "2001-03-05 16:00:00 -0.410753 -0.471007 -0.564213 -0.921289 -0.302484   \n",
       "2001-03-06 00:00:00 -0.471007 -0.564213 -0.921289 -0.302484 -0.216071   \n",
       "2001-03-06 08:00:00 -0.564213 -0.921289 -0.302484 -0.216071 -0.120979   \n",
       "\n",
       "                          0    \n",
       "2001-03-05 00:00:00 -0.921289  \n",
       "2001-03-05 08:00:00 -0.302484  \n",
       "2001-03-05 16:00:00 -0.216071  \n",
       "2001-03-06 00:00:00 -0.120979  \n",
       "2001-03-06 08:00:00 -0.008822  \n",
       "\n",
       "[5 rows x 23 columns]"
      ]
     },
     "execution_count": 38,
     "metadata": {},
     "output_type": "execute_result"
    }
   ],
   "source": [
    "vectors_Log_Flux_std.head()"
   ]
  },
  {
   "cell_type": "code",
   "execution_count": 39,
   "metadata": {},
   "outputs": [],
   "source": [
    "vectors_Log_Flux_std['std_mean'] = std_mean\n",
    "vectors_Log_Flux_std['std_std'] = std_std\n"
   ]
  },
  {
   "cell_type": "code",
   "execution_count": 40,
   "metadata": {},
   "outputs": [
    {
     "data": {
      "text/plain": [
       "Index([      -176,       -168,       -160,       -152,       -144,       -136,\n",
       "             -128,       -120,       -112,       -104,        -96,        -88,\n",
       "              -80,        -72,        -64,        -56,        -48,        -40,\n",
       "              -32,        -24,        -16,         -8,          0, 'std_mean',\n",
       "        'std_std'],\n",
       "      dtype='object')"
      ]
     },
     "execution_count": 40,
     "metadata": {},
     "output_type": "execute_result"
    }
   ],
   "source": [
    "vectors_Log_Flux_std.columns"
   ]
  },
  {
   "cell_type": "markdown",
   "metadata": {},
   "source": [
    "### Time limits of the data:"
   ]
  },
  {
   "cell_type": "code",
   "execution_count": 41,
   "metadata": {},
   "outputs": [
    {
     "data": {
      "text/plain": [
       "(Timestamp('2001-03-05 00:00:00'), Timestamp('2016-10-31 16:00:00'))"
      ]
     },
     "execution_count": 41,
     "metadata": {},
     "output_type": "execute_result"
    }
   ],
   "source": [
    "vectors_Log_Flux.index[0], vectors_Log_Flux.index[-1], "
   ]
  },
  {
   "cell_type": "markdown",
   "metadata": {},
   "source": [
    "# Store the data to disk as an HDF5\n",
    "read in best with pandas, likely needs pytables"
   ]
  },
  {
   "cell_type": "code",
   "execution_count": 42,
   "metadata": {},
   "outputs": [],
   "source": [
    "store = pd.HDFStore('../Data/CXD_Vectors.h5', mode='w', complevel=9)"
   ]
  },
  {
   "cell_type": "code",
   "execution_count": 43,
   "metadata": {},
   "outputs": [],
   "source": [
    "store['vectors_Log_Flux'] = vectors_Log_Flux"
   ]
  },
  {
   "cell_type": "code",
   "execution_count": 44,
   "metadata": {},
   "outputs": [
    {
     "name": "stderr",
     "output_type": "stream",
     "text": [
      "/Users/balarsen/miniconda3/lib/python3.6/site-packages/ipykernel_launcher.py:1: PerformanceWarning: \n",
      "your performance may suffer as PyTables will pickle object types that it cannot\n",
      "map directly to c-types [inferred_type->mixed-integer,key->axis0] [items->None]\n",
      "\n",
      "  \"\"\"Entry point for launching an IPython kernel.\n",
      "/Users/balarsen/miniconda3/lib/python3.6/site-packages/ipykernel_launcher.py:1: PerformanceWarning: \n",
      "your performance may suffer as PyTables will pickle object types that it cannot\n",
      "map directly to c-types [inferred_type->mixed-integer,key->block0_items] [items->None]\n",
      "\n",
      "  \"\"\"Entry point for launching an IPython kernel.\n"
     ]
    }
   ],
   "source": [
    "store['vectors_Log_Flux_std'] = vectors_Log_Flux_std"
   ]
  },
  {
   "cell_type": "code",
   "execution_count": 45,
   "metadata": {},
   "outputs": [],
   "source": [
    "store.close()"
   ]
  },
  {
   "cell_type": "markdown",
   "metadata": {},
   "source": [
    "### Now store the raw GPS data to disk"
   ]
  },
  {
   "cell_type": "code",
   "execution_count": 53,
   "metadata": {},
   "outputs": [
    {
     "data": {
      "text/html": [
       "<div>\n",
       "<style scoped>\n",
       "    .dataframe tbody tr th:only-of-type {\n",
       "        vertical-align: middle;\n",
       "    }\n",
       "\n",
       "    .dataframe tbody tr th {\n",
       "        vertical-align: top;\n",
       "    }\n",
       "\n",
       "    .dataframe thead th {\n",
       "        text-align: right;\n",
       "    }\n",
       "</style>\n",
       "<table border=\"1\" class=\"dataframe\">\n",
       "  <thead>\n",
       "    <tr style=\"text-align: right;\">\n",
       "      <th></th>\n",
       "      <th>Flux_1.6</th>\n",
       "      <th>Log_Flux_1.6</th>\n",
       "      <th>Log_Flux_1.6_std</th>\n",
       "    </tr>\n",
       "  </thead>\n",
       "  <tbody>\n",
       "    <tr>\n",
       "      <th>2001-02-20 08:00:00</th>\n",
       "      <td>43069.021355</td>\n",
       "      <td>4.634165</td>\n",
       "      <td>0.471567</td>\n",
       "    </tr>\n",
       "    <tr>\n",
       "      <th>2001-02-20 16:00:00</th>\n",
       "      <td>27193.231000</td>\n",
       "      <td>4.434461</td>\n",
       "      <td>0.254677</td>\n",
       "    </tr>\n",
       "    <tr>\n",
       "      <th>2001-02-21 00:00:00</th>\n",
       "      <td>14515.348125</td>\n",
       "      <td>4.161827</td>\n",
       "      <td>-0.041419</td>\n",
       "    </tr>\n",
       "    <tr>\n",
       "      <th>2001-02-21 08:00:00</th>\n",
       "      <td>24432.734140</td>\n",
       "      <td>4.387972</td>\n",
       "      <td>0.204187</td>\n",
       "    </tr>\n",
       "    <tr>\n",
       "      <th>2001-02-21 16:00:00</th>\n",
       "      <td>23571.599474</td>\n",
       "      <td>4.372389</td>\n",
       "      <td>0.187263</td>\n",
       "    </tr>\n",
       "  </tbody>\n",
       "</table>\n",
       "</div>"
      ],
      "text/plain": [
       "                         Flux_1.6  Log_Flux_1.6  Log_Flux_1.6_std\n",
       "2001-02-20 08:00:00  43069.021355      4.634165          0.471567\n",
       "2001-02-20 16:00:00  27193.231000      4.434461          0.254677\n",
       "2001-02-21 00:00:00  14515.348125      4.161827         -0.041419\n",
       "2001-02-21 08:00:00  24432.734140      4.387972          0.204187\n",
       "2001-02-21 16:00:00  23571.599474      4.372389          0.187263"
      ]
     },
     "execution_count": 53,
     "metadata": {},
     "output_type": "execute_result"
    }
   ],
   "source": [
    "CXD.head()"
   ]
  },
  {
   "cell_type": "markdown",
   "metadata": {},
   "source": [
    "# Read the file back and compare"
   ]
  },
  {
   "cell_type": "code",
   "execution_count": 46,
   "metadata": {},
   "outputs": [],
   "source": [
    "a = pd.read_hdf('../Data/CXD_Vectors.h5', 'vectors_Log_Flux_std')"
   ]
  },
  {
   "cell_type": "code",
   "execution_count": 47,
   "metadata": {},
   "outputs": [],
   "source": [
    "b = pd.read_hdf('../Data/CXD_Vectors.h5', 'vectors_Log_Flux')"
   ]
  },
  {
   "cell_type": "code",
   "execution_count": 48,
   "metadata": {},
   "outputs": [
    {
     "data": {
      "text/plain": [
       "-176        False\n",
       "-168        False\n",
       "-160        False\n",
       "-152        False\n",
       "-144        False\n",
       "-136        False\n",
       "-128        False\n",
       "-120        False\n",
       "-112        False\n",
       "-104        False\n",
       "-96         False\n",
       "-88         False\n",
       "-80         False\n",
       "-72         False\n",
       "-64         False\n",
       "-56         False\n",
       "-48         False\n",
       "-40         False\n",
       "-32         False\n",
       "-24         False\n",
       "-16         False\n",
       "-8          False\n",
       "0           False\n",
       "std_mean    False\n",
       "std_std     False\n",
       "dtype: bool"
      ]
     },
     "execution_count": 48,
     "metadata": {},
     "output_type": "execute_result"
    }
   ],
   "source": [
    "(vectors_Log_Flux_std - a).any()"
   ]
  },
  {
   "cell_type": "code",
   "execution_count": 49,
   "metadata": {},
   "outputs": [
    {
     "data": {
      "text/plain": [
       "-176    False\n",
       "-168    False\n",
       "-160    False\n",
       "-152    False\n",
       "-144    False\n",
       "-136    False\n",
       "-128    False\n",
       "-120    False\n",
       "-112    False\n",
       "-104    False\n",
       "-96     False\n",
       "-88     False\n",
       "-80     False\n",
       "-72     False\n",
       "-64     False\n",
       "-56     False\n",
       "-48     False\n",
       "-40     False\n",
       "-32     False\n",
       "-24     False\n",
       "-16     False\n",
       "-8      False\n",
       " 0      False\n",
       "dtype: bool"
      ]
     },
     "execution_count": 49,
     "metadata": {},
     "output_type": "execute_result"
    }
   ],
   "source": [
    "(vectors_Log_Flux - b).any()"
   ]
  },
  {
   "cell_type": "markdown",
   "metadata": {},
   "source": [
    "# Demonstrate how to get the vectors out"
   ]
  },
  {
   "cell_type": "code",
   "execution_count": 50,
   "metadata": {},
   "outputs": [],
   "source": [
    "del a, b"
   ]
  },
  {
   "cell_type": "markdown",
   "metadata": {},
   "source": [
    "## The vector at a time\n",
    "remember for std drop the last 2"
   ]
  },
  {
   "cell_type": "code",
   "execution_count": 51,
   "metadata": {},
   "outputs": [
    {
     "data": {
      "text/plain": [
       "-176       -0.327837\n",
       "-168       -0.306398\n",
       "-160       -0.280132\n",
       "-152       -0.213254\n",
       "-144       -0.200928\n",
       "-136       -0.368669\n",
       "-128       -0.328743\n",
       "-120       -0.278023\n",
       "-112       -0.347489\n",
       "-104       -0.313781\n",
       "-96        -0.294824\n",
       "-88        -0.441543\n",
       "-80        -0.451251\n",
       "-72        -0.373926\n",
       "-64        -0.524472\n",
       "-56        -0.410753\n",
       "-48        -0.471007\n",
       "-40        -0.564213\n",
       "-32        -0.921289\n",
       "-24        -0.302484\n",
       "-16        -0.216071\n",
       "-8         -0.120979\n",
       "0          -0.008822\n",
       "std_mean    4.199964\n",
       "std_std     0.920762\n",
       "Name: 2001-03-06 08:00:00, dtype: float64"
      ]
     },
     "execution_count": 51,
     "metadata": {},
     "output_type": "execute_result"
    }
   ],
   "source": [
    "vectors_Log_Flux_std.loc['2001-03-06T08:00:00']"
   ]
  },
  {
   "cell_type": "code",
   "execution_count": 52,
   "metadata": {},
   "outputs": [
    {
     "data": {
      "text/plain": [
       "array([-0.32783733, -0.30639771, -0.28013196, -0.21325397, -0.20092758,\n",
       "       -0.36866901, -0.32874322, -0.27802304, -0.34748944, -0.31378114,\n",
       "       -0.2948236 , -0.44154321, -0.45125074, -0.37392554, -0.52447194,\n",
       "       -0.4107534 , -0.47100702, -0.56421279, -0.92128925, -0.30248365,\n",
       "       -0.21607117, -0.12097854, -0.00882232])"
      ]
     },
     "execution_count": 52,
     "metadata": {},
     "output_type": "execute_result"
    }
   ],
   "source": [
    "vectors_Log_Flux_std.loc['2001-03-06T08:00:00'].values[:-2]"
   ]
  },
  {
   "cell_type": "code",
   "execution_count": null,
   "metadata": {},
   "outputs": [],
   "source": []
  }
 ],
 "metadata": {
  "kernelspec": {
   "display_name": "Python 3",
   "language": "python",
   "name": "python3"
  },
  "language_info": {
   "codemirror_mode": {
    "name": "ipython",
    "version": 3
   },
   "file_extension": ".py",
   "mimetype": "text/x-python",
   "name": "python",
   "nbconvert_exporter": "python",
   "pygments_lexer": "ipython3",
   "version": "3.6.6"
  }
 },
 "nbformat": 4,
 "nbformat_minor": 2
}
