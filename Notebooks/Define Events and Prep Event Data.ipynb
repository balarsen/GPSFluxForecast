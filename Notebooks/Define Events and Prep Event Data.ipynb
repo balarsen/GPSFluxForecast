{
 "cells": [
  {
   "cell_type": "markdown",
   "metadata": {},
   "source": [
    "# Define Events and Prep Event Data"
   ]
  },
  {
   "cell_type": "code",
   "execution_count": 1,
   "metadata": {},
   "outputs": [],
   "source": [
    "%load_ext version_information"
   ]
  },
  {
   "cell_type": "code",
   "execution_count": 2,
   "metadata": {},
   "outputs": [
    {
     "name": "stdout",
     "output_type": "stream",
     "text": [
      "This unreleased version of SpacePy is not supported by the SpacePy team.\n",
      "Qin-Denton/OMNI2 data not found in current format. This module has limited functionality.\n",
      "Run spacepy.toolbox.update(QDomni=True) to download data\n"
     ]
    },
    {
     "name": "stderr",
     "output_type": "stream",
     "text": [
      "/Users/balarsen/miniconda3/lib/python3.7/site-packages/matplotlib/__init__.py:886: MatplotlibDeprecationWarning: \n",
      "examples.directory is deprecated; in the future, examples will be found relative to the 'datapath' directory.\n",
      "  \"found relative to the 'datapath' directory.\".format(key))\n"
     ]
    },
    {
     "data": {
      "application/json": {
       "Software versions": [
        {
         "module": "Python",
         "version": "3.7.0 64bit [Clang 4.0.1 (tags/RELEASE_401/final)]"
        },
        {
         "module": "IPython",
         "version": "7.0.1"
        },
        {
         "module": "OS",
         "version": "Darwin 17.7.0 x86_64 i386 64bit"
        },
        {
         "module": "numpy",
         "version": "1.15.2"
        },
        {
         "module": "matplotlib",
         "version": "3.0.0"
        },
        {
         "module": "version_information",
         "version": "1.0.3"
        },
        {
         "module": "verify",
         "version": "The 'verify' distribution was not found and is required by the application"
        },
        {
         "module": "scipy",
         "version": "1.1.0"
        },
        {
         "module": "sklearn",
         "version": "0.20.0"
        },
        {
         "module": "seaborn",
         "version": "0.9.0"
        },
        {
         "module": "spacepy",
         "version": "UNRELEASED"
        },
        {
         "module": "h5py",
         "version": "2.8.0"
        }
       ]
      },
      "text/html": [
       "<table><tr><th>Software</th><th>Version</th></tr><tr><td>Python</td><td>3.7.0 64bit [Clang 4.0.1 (tags/RELEASE_401/final)]</td></tr><tr><td>IPython</td><td>7.0.1</td></tr><tr><td>OS</td><td>Darwin 17.7.0 x86_64 i386 64bit</td></tr><tr><td>numpy</td><td>1.15.2</td></tr><tr><td>matplotlib</td><td>3.0.0</td></tr><tr><td>version_information</td><td>1.0.3</td></tr><tr><td>verify</td><td>The 'verify' distribution was not found and is required by the application</td></tr><tr><td>scipy</td><td>1.1.0</td></tr><tr><td>sklearn</td><td>0.20.0</td></tr><tr><td>seaborn</td><td>0.9.0</td></tr><tr><td>spacepy</td><td>UNRELEASED</td></tr><tr><td>h5py</td><td>2.8.0</td></tr><tr><td colspan='2'>Mon Oct 15 12:52:16 2018 MDT</td></tr></table>"
      ],
      "text/latex": [
       "\\begin{tabular}{|l|l|}\\hline\n",
       "{\\bf Software} & {\\bf Version} \\\\ \\hline\\hline\n",
       "Python & 3.7.0 64bit [Clang 4.0.1 (tags/RELEASE\\_401/final)] \\\\ \\hline\n",
       "IPython & 7.0.1 \\\\ \\hline\n",
       "OS & Darwin 17.7.0 x86\\_64 i386 64bit \\\\ \\hline\n",
       "numpy & 1.15.2 \\\\ \\hline\n",
       "matplotlib & 3.0.0 \\\\ \\hline\n",
       "version_information & 1.0.3 \\\\ \\hline\n",
       "verify & The 'verify' distribution was not found and is required by the application \\\\ \\hline\n",
       "scipy & 1.1.0 \\\\ \\hline\n",
       "sklearn & 0.20.0 \\\\ \\hline\n",
       "seaborn & 0.9.0 \\\\ \\hline\n",
       "spacepy & UNRELEASED \\\\ \\hline\n",
       "h5py & 2.8.0 \\\\ \\hline\n",
       "\\hline \\multicolumn{2}{|l|}{Mon Oct 15 12:52:16 2018 MDT} \\\\ \\hline\n",
       "\\end{tabular}\n"
      ],
      "text/plain": [
       "Software versions\n",
       "Python 3.7.0 64bit [Clang 4.0.1 (tags/RELEASE_401/final)]\n",
       "IPython 7.0.1\n",
       "OS Darwin 17.7.0 x86_64 i386 64bit\n",
       "numpy 1.15.2\n",
       "matplotlib 3.0.0\n",
       "version_information 1.0.3\n",
       "verify The 'verify' distribution was not found and is required by the application\n",
       "scipy 1.1.0\n",
       "sklearn 0.20.0\n",
       "seaborn 0.9.0\n",
       "spacepy UNRELEASED\n",
       "h5py 2.8.0\n",
       "Mon Oct 15 12:52:16 2018 MDT"
      ]
     },
     "execution_count": 2,
     "metadata": {},
     "output_type": "execute_result"
    }
   ],
   "source": [
    "import datetime\n",
    "from pprint import pprint\n",
    "\n",
    "import spacepy.plot as spp\n",
    "import path\n",
    "import numpy as np\n",
    "import pandas as pd\n",
    "import matplotlib.pyplot as plt\n",
    "from spacepy import omni\n",
    "from spacepy import time as spt\n",
    "from spacepy import plot as spp\n",
    "spp.revert_style()\n",
    "import seaborn as sns\n",
    "sns.set(font_scale=1.5)\n",
    "sns.set_style(\"whitegrid\")\n",
    "import tqdm\n",
    "from scipy import stats\n",
    "import matplotlib\n",
    "from sklearn.neighbors import KDTree\n",
    "from spacepy import omni as omni\n",
    "from spacepy import toolbox as tb\n",
    "from spacepy import time as spt\n",
    "from spacepy import datamodel as dm\n",
    "import scipy\n",
    "import h5py\n",
    "\n",
    "import verify\n",
    "\n",
    "%version_information numpy, matplotlib, version_information, verify, scipy, sklearn, seaborn, spacepy, h5py"
   ]
  },
  {
   "cell_type": "markdown",
   "metadata": {},
   "source": [
    "# Load in Onni data and define events\n",
    "* OMNI needed on 8 hour cadence\n",
    "* Times are given as bin start times"
   ]
  },
  {
   "cell_type": "code",
   "execution_count": 4,
   "metadata": {},
   "outputs": [
    {
     "name": "stdout",
     "output_type": "stream",
     "text": [
      "Retrieving Qin_Denton file ...\n",
      "Download Progress ...100%\n",
      "\n",
      "Now processing (this may take a minute) ...\n"
     ]
    },
    {
     "name": "stderr",
     "output_type": "stream",
     "text": [
      "/Users/balarsen/miniconda3/lib/python3.7/site-packages/spacepy/time.py:228: DeprecationWarning: Using or importing the ABCs from 'collections' instead of from 'collections.abc' is deprecated, and in 3.8 it will stop working\n",
      "  if not isinstance(dtype, collections.Callable):\n"
     ]
    },
    {
     "name": "stdout",
     "output_type": "stream",
     "text": [
      "Now saving... \n",
      "Retrieving OMNI2 file ...\n",
      "Download Progress ...100%\n",
      "\n"
     ]
    },
    {
     "data": {
      "text/plain": [
       "'/Users/balarsen/.spacepy/data'"
      ]
     },
     "execution_count": 4,
     "metadata": {},
     "output_type": "execute_result"
    }
   ],
   "source": [
    "# tb.update(omni=True, omni2=True)"
   ]
  },
  {
   "cell_type": "code",
   "execution_count": 5,
   "metadata": {},
   "outputs": [
    {
     "name": "stdout",
     "output_type": "stream",
     "text": [
      "Ticktock( [datetime.datetime(2002, 1, 1, 0, 0) datetime.datetime(2002, 1, 1, 8, 0)\n",
      " datetime.datetime(2002, 1, 1, 16, 0) datetime.datetime(2002, 1, 2, 0, 0)], dtype=UTC)\n"
     ]
    }
   ],
   "source": [
    "# need ticktocks over the time interval to her 8 hour averaged OMNI\n",
    "# CXD data 2001-03-05 00:00:00'), Timestamp('2016-10-31 16:00:00'\n",
    "times = pd.DatetimeIndex(start='2002-01-01', end='2016-03-01', freq='8H')\n",
    "tt_times = spt.Ticktock(times.to_pydatetime())\n",
    "pprint(tt_times[0:4])"
   ]
  },
  {
   "cell_type": "code",
   "execution_count": 6,
   "metadata": {},
   "outputs": [
    {
     "data": {
      "text/plain": [
       "dict_keys(['ByIMF', 'Bz1', 'Bz2', 'Bz3', 'Bz4', 'Bz5', 'Bz6', 'BzIMF', 'DOY', 'Dst', 'G', 'Kp', 'Pdyn', 'RDT', 'W', 'akp3', 'dens', 'velo', 'ticks', 'UTC', 'Hr', 'Year', 'Qbits'])"
      ]
     },
     "execution_count": 6,
     "metadata": {},
     "output_type": "execute_result"
    }
   ],
   "source": [
    "# get the omni data\n",
    "om = omni.get_omni(tt_times)\n",
    "om.keys()"
   ]
  },
  {
   "cell_type": "code",
   "execution_count": 7,
   "metadata": {},
   "outputs": [
    {
     "data": {
      "text/html": [
       "<div>\n",
       "<style scoped>\n",
       "    .dataframe tbody tr th:only-of-type {\n",
       "        vertical-align: middle;\n",
       "    }\n",
       "\n",
       "    .dataframe tbody tr th {\n",
       "        vertical-align: top;\n",
       "    }\n",
       "\n",
       "    .dataframe thead th {\n",
       "        text-align: right;\n",
       "    }\n",
       "</style>\n",
       "<table border=\"1\" class=\"dataframe\">\n",
       "  <thead>\n",
       "    <tr style=\"text-align: right;\">\n",
       "      <th></th>\n",
       "      <th>BzIMF</th>\n",
       "      <th>Dst</th>\n",
       "      <th>Kp</th>\n",
       "      <th>Pdyn</th>\n",
       "      <th>akp3</th>\n",
       "      <th>dens</th>\n",
       "      <th>velo</th>\n",
       "    </tr>\n",
       "  </thead>\n",
       "  <tbody>\n",
       "    <tr>\n",
       "      <th>2002-01-01 00:00:00</th>\n",
       "      <td>-1.1</td>\n",
       "      <td>-38.0</td>\n",
       "      <td>2.3</td>\n",
       "      <td>1.35</td>\n",
       "      <td>3.55</td>\n",
       "      <td>3.2</td>\n",
       "      <td>459.0</td>\n",
       "    </tr>\n",
       "    <tr>\n",
       "      <th>2002-01-01 08:00:00</th>\n",
       "      <td>0.9</td>\n",
       "      <td>-48.0</td>\n",
       "      <td>2.3</td>\n",
       "      <td>1.80</td>\n",
       "      <td>2.45</td>\n",
       "      <td>4.4</td>\n",
       "      <td>468.0</td>\n",
       "    </tr>\n",
       "    <tr>\n",
       "      <th>2002-01-01 16:00:00</th>\n",
       "      <td>0.2</td>\n",
       "      <td>-32.0</td>\n",
       "      <td>1.0</td>\n",
       "      <td>1.05</td>\n",
       "      <td>1.22</td>\n",
       "      <td>3.0</td>\n",
       "      <td>418.0</td>\n",
       "    </tr>\n",
       "    <tr>\n",
       "      <th>2002-01-02 00:00:00</th>\n",
       "      <td>-1.9</td>\n",
       "      <td>-14.0</td>\n",
       "      <td>2.0</td>\n",
       "      <td>1.29</td>\n",
       "      <td>2.02</td>\n",
       "      <td>4.0</td>\n",
       "      <td>402.0</td>\n",
       "    </tr>\n",
       "    <tr>\n",
       "      <th>2002-01-02 08:00:00</th>\n",
       "      <td>0.5</td>\n",
       "      <td>-16.0</td>\n",
       "      <td>1.0</td>\n",
       "      <td>1.51</td>\n",
       "      <td>1.13</td>\n",
       "      <td>4.1</td>\n",
       "      <td>413.0</td>\n",
       "    </tr>\n",
       "  </tbody>\n",
       "</table>\n",
       "</div>"
      ],
      "text/plain": [
       "                     BzIMF   Dst   Kp  Pdyn  akp3  dens   velo\n",
       "2002-01-01 00:00:00   -1.1 -38.0  2.3  1.35  3.55   3.2  459.0\n",
       "2002-01-01 08:00:00    0.9 -48.0  2.3  1.80  2.45   4.4  468.0\n",
       "2002-01-01 16:00:00    0.2 -32.0  1.0  1.05  1.22   3.0  418.0\n",
       "2002-01-02 00:00:00   -1.9 -14.0  2.0  1.29  2.02   4.0  402.0\n",
       "2002-01-02 08:00:00    0.5 -16.0  1.0  1.51  1.13   4.1  413.0"
      ]
     },
     "execution_count": 7,
     "metadata": {},
     "output_type": "execute_result"
    }
   ],
   "source": [
    "# build a pandas dataframe of the Omnni data\n",
    "keys = ['BzIMF', 'Dst', 'Kp', 'Pdyn', 'akp3', 'dens', 'velo', ] # 'ticks']\n",
    "\n",
    "om_df = pd.DataFrame(data=om[keys])\n",
    "om_df.index = pd.DatetimeIndex(om['ticks'].UTC)\n",
    "om_df.head()"
   ]
  },
  {
   "cell_type": "code",
   "execution_count": 8,
   "metadata": {},
   "outputs": [],
   "source": [
    "om_df.dropna(inplace=True)"
   ]
  },
  {
   "cell_type": "code",
   "execution_count": 9,
   "metadata": {},
   "outputs": [
    {
     "data": {
      "image/png": "[encoded data removed]",
      "text/plain": [
       "<Figure size 720x576 with 7 Axes>"
      ]
     },
     "metadata": {
      "needs_background": "light"
     },
     "output_type": "display_data"
    }
   ],
   "source": [
    "om_df.plot(figsize=(10,8), subplots=True);"
   ]
  },
  {
   "cell_type": "markdown",
   "metadata": {},
   "source": [
    "## Need to get some events\n",
    "* define 10 events, 5 storm and 5 non storm"
   ]
  },
  {
   "cell_type": "code",
   "execution_count": 10,
   "metadata": {},
   "outputs": [
    {
     "data": {
      "text/plain": [
       "array([datetime.datetime(2002, 1, 28, 16, 0),\n",
       "       datetime.datetime(2002, 4, 20, 16, 0),\n",
       "       datetime.datetime(2002, 10, 8, 0, 0),\n",
       "       datetime.datetime(2003, 8, 18, 8, 0),\n",
       "       datetime.datetime(2004, 1, 22, 16, 0),\n",
       "       datetime.datetime(2004, 11, 8, 16, 0),\n",
       "       datetime.datetime(2006, 7, 7, 8, 0),\n",
       "       datetime.datetime(2013, 5, 10, 16, 0),\n",
       "       datetime.datetime(2013, 9, 16, 0, 0),\n",
       "       datetime.datetime(2015, 6, 20, 0, 0)], dtype=object)"
      ]
     },
     "execution_count": 10,
     "metadata": {},
     "output_type": "execute_result"
    }
   ],
   "source": [
    "np.random.seed(8675309)\n",
    "storm_events = om_df.loc[om_df['Dst'] < -75, :].sample(5).index.to_pydatetime()\n",
    "quiet_events = om_df.loc[om_df['Dst'] > -20, :].sample(5).index.to_pydatetime()\n",
    "events = np.hstack((storm_events, quiet_events))\n",
    "events.sort()\n",
    "events\n",
    "\n",
    "# array([datetime.datetime(2002, 1, 28, 16, 0),\n",
    "#        datetime.datetime(2002, 4, 20, 16, 0),\n",
    "#        datetime.datetime(2002, 10, 8, 0, 0),\n",
    "#        datetime.datetime(2003, 8, 18, 8, 0),\n",
    "#        datetime.datetime(2004, 1, 22, 16, 0),\n",
    "#        datetime.datetime(2004, 11, 8, 16, 0),\n",
    "#        datetime.datetime(2006, 7, 7, 8, 0),\n",
    "#        datetime.datetime(2013, 5, 10, 16, 0),\n",
    "#        datetime.datetime(2013, 9, 16, 0, 0),\n",
    "#        datetime.datetime(2015, 6, 20, 0, 0)], dtype=object)"
   ]
  },
  {
   "cell_type": "markdown",
   "metadata": {},
   "source": [
    "## Now grab all the omni parameters for the events for easy plotting later on\n",
    "* this can be done from the vectors\n",
    "* we need 7 days before and 21 days after"
   ]
  },
  {
   "cell_type": "code",
   "execution_count": 11,
   "metadata": {},
   "outputs": [
    {
     "name": "stdout",
     "output_type": "stream",
     "text": [
      "['BzIMF', 'BzIMF_std', 'Dst', 'Dst_std', 'Kp', 'Kp_std', 'Pdyn', 'Pdyn_std', 'akp3', 'akp3_std', 'dens', 'dens_std', 'velo', 'velo_std']\n"
     ]
    }
   ],
   "source": [
    "with h5py.File('../Data/OMNI_Vectors.h5', 'r') as h5:\n",
    "    print(list(h5.keys()))\n",
    "    omni_keys = list(h5.keys())\n",
    "    omni_keys"
   ]
  },
  {
   "cell_type": "code",
   "execution_count": 12,
   "metadata": {},
   "outputs": [
    {
     "data": {
      "text/plain": [
       "['BzIMF',\n",
       " 'BzIMF_std',\n",
       " 'Dst',\n",
       " 'Dst_std',\n",
       " 'Kp',\n",
       " 'Kp_std',\n",
       " 'Pdyn',\n",
       " 'Pdyn_std',\n",
       " 'akp3',\n",
       " 'akp3_std',\n",
       " 'dens',\n",
       " 'dens_std',\n",
       " 'velo',\n",
       " 'velo_std']"
      ]
     },
     "execution_count": 12,
     "metadata": {},
     "output_type": "execute_result"
    }
   ],
   "source": [
    "omni_keys"
   ]
  },
  {
   "cell_type": "code",
   "execution_count": 13,
   "metadata": {},
   "outputs": [
    {
     "data": {
      "application/vnd.jupyter.widget-view+json": {
       "model_id": "4f8ae0b2890d482f9b2c63446f391e8c",
       "version_major": 2,
       "version_minor": 0
      },
      "text/plain": [
       "HBox(children=(IntProgress(value=0, max=14), HTML(value='')))"
      ]
     },
     "metadata": {},
     "output_type": "display_data"
    },
    {
     "name": "stdout",
     "output_type": "stream",
     "text": [
      "\n"
     ]
    }
   ],
   "source": [
    "omni_data = {}\n",
    "for k in tqdm.tqdm_notebook(omni_keys):\n",
    "    omni_data[k] = pd.read_hdf('../Data/OMNI_Vectors.h5', k)"
   ]
  },
  {
   "cell_type": "code",
   "execution_count": 14,
   "metadata": {},
   "outputs": [
    {
     "data": {
      "text/html": [
       "<div>\n",
       "<style scoped>\n",
       "    .dataframe tbody tr th:only-of-type {\n",
       "        vertical-align: middle;\n",
       "    }\n",
       "\n",
       "    .dataframe tbody tr th {\n",
       "        vertical-align: top;\n",
       "    }\n",
       "\n",
       "    .dataframe thead th {\n",
       "        text-align: right;\n",
       "    }\n",
       "</style>\n",
       "<table border=\"1\" class=\"dataframe\">\n",
       "  <thead>\n",
       "    <tr style=\"text-align: right;\">\n",
       "      <th></th>\n",
       "      <th>-176</th>\n",
       "      <th>-168</th>\n",
       "      <th>-160</th>\n",
       "      <th>-152</th>\n",
       "      <th>-144</th>\n",
       "      <th>-136</th>\n",
       "      <th>-128</th>\n",
       "      <th>-120</th>\n",
       "      <th>-112</th>\n",
       "      <th>-104</th>\n",
       "      <th>...</th>\n",
       "      <th>-72</th>\n",
       "      <th>-64</th>\n",
       "      <th>-56</th>\n",
       "      <th>-48</th>\n",
       "      <th>-40</th>\n",
       "      <th>-32</th>\n",
       "      <th>-24</th>\n",
       "      <th>-16</th>\n",
       "      <th>-8</th>\n",
       "      <th>0</th>\n",
       "    </tr>\n",
       "  </thead>\n",
       "  <tbody>\n",
       "    <tr>\n",
       "      <th>2001-01-08 08:00:00</th>\n",
       "      <td>0.0</td>\n",
       "      <td>1.0</td>\n",
       "      <td>0.3</td>\n",
       "      <td>1.3</td>\n",
       "      <td>0.0</td>\n",
       "      <td>0.3</td>\n",
       "      <td>2.3</td>\n",
       "      <td>2.3</td>\n",
       "      <td>0.7</td>\n",
       "      <td>2.3</td>\n",
       "      <td>...</td>\n",
       "      <td>0.7</td>\n",
       "      <td>0.3</td>\n",
       "      <td>2.0</td>\n",
       "      <td>1.0</td>\n",
       "      <td>1.0</td>\n",
       "      <td>2.0</td>\n",
       "      <td>1.3</td>\n",
       "      <td>1.0</td>\n",
       "      <td>2.0</td>\n",
       "      <td>1.0</td>\n",
       "    </tr>\n",
       "    <tr>\n",
       "      <th>2001-01-08 16:00:00</th>\n",
       "      <td>1.0</td>\n",
       "      <td>0.3</td>\n",
       "      <td>1.3</td>\n",
       "      <td>0.0</td>\n",
       "      <td>0.3</td>\n",
       "      <td>2.3</td>\n",
       "      <td>2.3</td>\n",
       "      <td>0.7</td>\n",
       "      <td>2.3</td>\n",
       "      <td>3.0</td>\n",
       "      <td>...</td>\n",
       "      <td>0.3</td>\n",
       "      <td>2.0</td>\n",
       "      <td>1.0</td>\n",
       "      <td>1.0</td>\n",
       "      <td>2.0</td>\n",
       "      <td>1.3</td>\n",
       "      <td>1.0</td>\n",
       "      <td>2.0</td>\n",
       "      <td>1.0</td>\n",
       "      <td>2.0</td>\n",
       "    </tr>\n",
       "    <tr>\n",
       "      <th>2001-01-09 00:00:00</th>\n",
       "      <td>0.3</td>\n",
       "      <td>1.3</td>\n",
       "      <td>0.0</td>\n",
       "      <td>0.3</td>\n",
       "      <td>2.3</td>\n",
       "      <td>2.3</td>\n",
       "      <td>0.7</td>\n",
       "      <td>2.3</td>\n",
       "      <td>3.0</td>\n",
       "      <td>3.0</td>\n",
       "      <td>...</td>\n",
       "      <td>2.0</td>\n",
       "      <td>1.0</td>\n",
       "      <td>1.0</td>\n",
       "      <td>2.0</td>\n",
       "      <td>1.3</td>\n",
       "      <td>1.0</td>\n",
       "      <td>2.0</td>\n",
       "      <td>1.0</td>\n",
       "      <td>2.0</td>\n",
       "      <td>2.0</td>\n",
       "    </tr>\n",
       "    <tr>\n",
       "      <th>2001-01-09 08:00:00</th>\n",
       "      <td>1.3</td>\n",
       "      <td>0.0</td>\n",
       "      <td>0.3</td>\n",
       "      <td>2.3</td>\n",
       "      <td>2.3</td>\n",
       "      <td>0.7</td>\n",
       "      <td>2.3</td>\n",
       "      <td>3.0</td>\n",
       "      <td>3.0</td>\n",
       "      <td>1.7</td>\n",
       "      <td>...</td>\n",
       "      <td>1.0</td>\n",
       "      <td>1.0</td>\n",
       "      <td>2.0</td>\n",
       "      <td>1.3</td>\n",
       "      <td>1.0</td>\n",
       "      <td>2.0</td>\n",
       "      <td>1.0</td>\n",
       "      <td>2.0</td>\n",
       "      <td>2.0</td>\n",
       "      <td>1.0</td>\n",
       "    </tr>\n",
       "    <tr>\n",
       "      <th>2001-01-09 16:00:00</th>\n",
       "      <td>0.0</td>\n",
       "      <td>0.3</td>\n",
       "      <td>2.3</td>\n",
       "      <td>2.3</td>\n",
       "      <td>0.7</td>\n",
       "      <td>2.3</td>\n",
       "      <td>3.0</td>\n",
       "      <td>3.0</td>\n",
       "      <td>1.7</td>\n",
       "      <td>0.7</td>\n",
       "      <td>...</td>\n",
       "      <td>1.0</td>\n",
       "      <td>2.0</td>\n",
       "      <td>1.3</td>\n",
       "      <td>1.0</td>\n",
       "      <td>2.0</td>\n",
       "      <td>1.0</td>\n",
       "      <td>2.0</td>\n",
       "      <td>2.0</td>\n",
       "      <td>1.0</td>\n",
       "      <td>1.0</td>\n",
       "    </tr>\n",
       "  </tbody>\n",
       "</table>\n",
       "<p>5 rows × 23 columns</p>\n",
       "</div>"
      ],
      "text/plain": [
       "                     -176  -168  -160  -152  -144  -136  -128  -120  -112  \\\n",
       "2001-01-08 08:00:00   0.0   1.0   0.3   1.3   0.0   0.3   2.3   2.3   0.7   \n",
       "2001-01-08 16:00:00   1.0   0.3   1.3   0.0   0.3   2.3   2.3   0.7   2.3   \n",
       "2001-01-09 00:00:00   0.3   1.3   0.0   0.3   2.3   2.3   0.7   2.3   3.0   \n",
       "2001-01-09 08:00:00   1.3   0.0   0.3   2.3   2.3   0.7   2.3   3.0   3.0   \n",
       "2001-01-09 16:00:00   0.0   0.3   2.3   2.3   0.7   2.3   3.0   3.0   1.7   \n",
       "\n",
       "                     -104  ...   -72   -64   -56   -48   -40   -32   -24   \\\n",
       "2001-01-08 08:00:00   2.3  ...    0.7   0.3   2.0   1.0   1.0   2.0   1.3   \n",
       "2001-01-08 16:00:00   3.0  ...    0.3   2.0   1.0   1.0   2.0   1.3   1.0   \n",
       "2001-01-09 00:00:00   3.0  ...    2.0   1.0   1.0   2.0   1.3   1.0   2.0   \n",
       "2001-01-09 08:00:00   1.7  ...    1.0   1.0   2.0   1.3   1.0   2.0   1.0   \n",
       "2001-01-09 16:00:00   0.7  ...    1.0   2.0   1.3   1.0   2.0   1.0   2.0   \n",
       "\n",
       "                     -16   -8     0    \n",
       "2001-01-08 08:00:00   1.0   2.0   1.0  \n",
       "2001-01-08 16:00:00   2.0   1.0   2.0  \n",
       "2001-01-09 00:00:00   1.0   2.0   2.0  \n",
       "2001-01-09 08:00:00   2.0   2.0   1.0  \n",
       "2001-01-09 16:00:00   2.0   1.0   1.0  \n",
       "\n",
       "[5 rows x 23 columns]"
      ]
     },
     "execution_count": 14,
     "metadata": {},
     "output_type": "execute_result"
    }
   ],
   "source": [
    "omni_data['Kp'].head()"
   ]
  },
  {
   "cell_type": "markdown",
   "metadata": {},
   "source": [
    "Trail and error led to the formula to pull out a time series from the vectors. Now and 7 days part is simply:\n",
    "\n",
    "omni_data['Kp'].loc[events[0]]\n",
    "\n",
    "To get the next 7 days forward it is:\n",
    "\n",
    "omni_data['Kp'].loc[events[0]+pd.Timedelta(days=7, hours=16)]\n",
    "\n",
    "And the general formaula is \n",
    "\n",
    "omni_data['Kp'].loc[events[0]+pd.Timedelta(days=7*n, hours=16*n)]   where n=1,2,3\n"
   ]
  },
  {
   "cell_type": "code",
   "execution_count": 15,
   "metadata": {},
   "outputs": [],
   "source": [
    "def build_data_from_vector(indat, time, daysout=3, CXD_std=False):\n",
    "    \"\"\"\n",
    "    given imput vectors build the time series of the data for the event\n",
    "    \n",
    "    CXD_std has two more columns that need to be left out\n",
    "    \"\"\"\n",
    "    ans = []\n",
    "    for i in range(0, daysout+1):\n",
    "        if CXD_std:\n",
    "            ans.extend(indat.loc[time+pd.Timedelta(days=7*i, hours=16*i)][:-2])\n",
    "        else:\n",
    "            ans.extend(indat.loc[time+pd.Timedelta(days=7*i, hours=16*i)])\n",
    "    ans = np.asarray(ans)\n",
    "    T0 = time - pd.Timedelta(hours=176)\n",
    "    times = pd.DatetimeIndex([T0 + pd.Timedelta(hours=8*v) for v in range(len(ans))])\n",
    "    return pd.Series(ans, index=times)\n",
    "    "
   ]
  },
  {
   "cell_type": "code",
   "execution_count": 16,
   "metadata": {},
   "outputs": [
    {
     "data": {
      "image/png": "[encoded data removed]",
      "text/plain": [
       "<Figure size 432x288 with 1 Axes>"
      ]
     },
     "metadata": {
      "needs_background": "light"
     },
     "output_type": "display_data"
    }
   ],
   "source": [
    "s = build_data_from_vector(omni_data['Kp'], events[0])\n",
    "s.plot(lw=4)\n",
    "plt.axvline(events[0])\n",
    "events[0]\n",
    "om_df['Kp'].loc[s.index[0]:s.index[-1]].plot()\n",
    "assert (s == om_df['Kp'].loc[s.index[0]:s.index[-1]]).all()"
   ]
  },
  {
   "cell_type": "markdown",
   "metadata": {},
   "source": [
    "### Read in the CXD vectors and add them in"
   ]
  },
  {
   "cell_type": "code",
   "execution_count": 17,
   "metadata": {},
   "outputs": [],
   "source": [
    "vectors_Log_Flux_std = pd.read_hdf('../Data/CXD_Vectors.h5', 'vectors_Log_Flux_std')\n",
    "vectors_Log_Flux = pd.read_hdf('../Data/CXD_Vectors.h5', 'vectors_Log_Flux')"
   ]
  },
  {
   "cell_type": "code",
   "execution_count": 18,
   "metadata": {},
   "outputs": [
    {
     "data": {
      "application/vnd.jupyter.widget-view+json": {
       "model_id": "cca858dff6364a3bb43893474a3b5cdf",
       "version_major": 2,
       "version_minor": 0
      },
      "text/plain": [
       "HBox(children=(IntProgress(value=0, max=10), HTML(value='')))"
      ]
     },
     "metadata": {},
     "output_type": "display_data"
    },
    {
     "name": "stdout",
     "output_type": "stream",
     "text": [
      "\n"
     ]
    },
    {
     "ename": "KeyError",
     "evalue": "'the label [2002-04-20 16:00:00] is not in the [index]'",
     "output_type": "error",
     "traceback": [
      "\u001b[0;31m---------------------------------------------------------------------------\u001b[0m",
      "\u001b[0;31mKeyError\u001b[0m                                  Traceback (most recent call last)",
      "\u001b[0;32m~/miniconda3/lib/python3.7/site-packages/pandas/core/indexing.py\u001b[0m in \u001b[0;36m_validate_key\u001b[0;34m(self, key, axis)\u001b[0m\n\u001b[1;32m   1789\u001b[0m                 \u001b[0;32mif\u001b[0m \u001b[0;32mnot\u001b[0m \u001b[0max\u001b[0m\u001b[0;34m.\u001b[0m\u001b[0mcontains\u001b[0m\u001b[0;34m(\u001b[0m\u001b[0mkey\u001b[0m\u001b[0;34m)\u001b[0m\u001b[0;34m:\u001b[0m\u001b[0;34m\u001b[0m\u001b[0m\n\u001b[0;32m-> 1790\u001b[0;31m                     \u001b[0merror\u001b[0m\u001b[0;34m(\u001b[0m\u001b[0;34m)\u001b[0m\u001b[0;34m\u001b[0m\u001b[0m\n\u001b[0m\u001b[1;32m   1791\u001b[0m             \u001b[0;32mexcept\u001b[0m \u001b[0mTypeError\u001b[0m \u001b[0;32mas\u001b[0m \u001b[0me\u001b[0m\u001b[0;34m:\u001b[0m\u001b[0;34m\u001b[0m\u001b[0m\n",
      "\u001b[0;32m~/miniconda3/lib/python3.7/site-packages/pandas/core/indexing.py\u001b[0m in \u001b[0;36merror\u001b[0;34m()\u001b[0m\n\u001b[1;32m   1784\u001b[0m                                .format(key=key,\n\u001b[0;32m-> 1785\u001b[0;31m                                        axis=self.obj._get_axis_name(axis)))\n\u001b[0m\u001b[1;32m   1786\u001b[0m \u001b[0;34m\u001b[0m\u001b[0m\n",
      "\u001b[0;31mKeyError\u001b[0m: 'the label [2002-04-20 16:00:00] is not in the [index]'",
      "\nDuring handling of the above exception, another exception occurred:\n",
      "\u001b[0;31mKeyError\u001b[0m                                  Traceback (most recent call last)",
      "\u001b[0;32m<ipython-input-18-b6e29acc700b>\u001b[0m in \u001b[0;36m<module>\u001b[0;34m\u001b[0m\n\u001b[1;32m      4\u001b[0m     \u001b[0;32mfor\u001b[0m \u001b[0mk\u001b[0m \u001b[0;32min\u001b[0m \u001b[0momni_data\u001b[0m\u001b[0;34m:\u001b[0m\u001b[0;34m\u001b[0m\u001b[0m\n\u001b[1;32m      5\u001b[0m         \u001b[0mevent_data\u001b[0m\u001b[0;34m[\u001b[0m\u001b[0me\u001b[0m\u001b[0;34m]\u001b[0m\u001b[0;34m[\u001b[0m\u001b[0mk\u001b[0m\u001b[0;34m]\u001b[0m \u001b[0;34m=\u001b[0m \u001b[0mbuild_data_from_vector\u001b[0m\u001b[0;34m(\u001b[0m\u001b[0momni_data\u001b[0m\u001b[0;34m[\u001b[0m\u001b[0mk\u001b[0m\u001b[0;34m]\u001b[0m\u001b[0;34m,\u001b[0m \u001b[0me\u001b[0m\u001b[0;34m)\u001b[0m\u001b[0;34m\u001b[0m\u001b[0m\n\u001b[0;32m----> 6\u001b[0;31m         \u001b[0mevent_data\u001b[0m\u001b[0;34m[\u001b[0m\u001b[0me\u001b[0m\u001b[0;34m]\u001b[0m\u001b[0;34m[\u001b[0m\u001b[0;34m'vectors_Log_Flux_std'\u001b[0m\u001b[0;34m]\u001b[0m \u001b[0;34m=\u001b[0m \u001b[0mbuild_data_from_vector\u001b[0m\u001b[0;34m(\u001b[0m\u001b[0mvectors_Log_Flux_std\u001b[0m\u001b[0;34m,\u001b[0m \u001b[0me\u001b[0m\u001b[0;34m,\u001b[0m \u001b[0mCXD_std\u001b[0m\u001b[0;34m=\u001b[0m\u001b[0;32mTrue\u001b[0m\u001b[0;34m)\u001b[0m\u001b[0;34m\u001b[0m\u001b[0m\n\u001b[0m\u001b[1;32m      7\u001b[0m         \u001b[0mevent_data\u001b[0m\u001b[0;34m[\u001b[0m\u001b[0me\u001b[0m\u001b[0;34m]\u001b[0m\u001b[0;34m[\u001b[0m\u001b[0;34m'vectors_Log_Flux'\u001b[0m\u001b[0;34m]\u001b[0m \u001b[0;34m=\u001b[0m \u001b[0mbuild_data_from_vector\u001b[0m\u001b[0;34m(\u001b[0m\u001b[0mvectors_Log_Flux\u001b[0m\u001b[0;34m,\u001b[0m \u001b[0me\u001b[0m\u001b[0;34m)\u001b[0m\u001b[0;34m\u001b[0m\u001b[0m\n\u001b[1;32m      8\u001b[0m \u001b[0;34m\u001b[0m\u001b[0m\n",
      "\u001b[0;32m<ipython-input-15-5a236afe9b09>\u001b[0m in \u001b[0;36mbuild_data_from_vector\u001b[0;34m(indat, time, daysout, CXD_std)\u001b[0m\n\u001b[1;32m      8\u001b[0m     \u001b[0;32mfor\u001b[0m \u001b[0mi\u001b[0m \u001b[0;32min\u001b[0m \u001b[0mrange\u001b[0m\u001b[0;34m(\u001b[0m\u001b[0;36m0\u001b[0m\u001b[0;34m,\u001b[0m \u001b[0mdaysout\u001b[0m\u001b[0;34m+\u001b[0m\u001b[0;36m1\u001b[0m\u001b[0;34m)\u001b[0m\u001b[0;34m:\u001b[0m\u001b[0;34m\u001b[0m\u001b[0m\n\u001b[1;32m      9\u001b[0m         \u001b[0;32mif\u001b[0m \u001b[0mCXD_std\u001b[0m\u001b[0;34m:\u001b[0m\u001b[0;34m\u001b[0m\u001b[0m\n\u001b[0;32m---> 10\u001b[0;31m             \u001b[0mans\u001b[0m\u001b[0;34m.\u001b[0m\u001b[0mextend\u001b[0m\u001b[0;34m(\u001b[0m\u001b[0mindat\u001b[0m\u001b[0;34m.\u001b[0m\u001b[0mloc\u001b[0m\u001b[0;34m[\u001b[0m\u001b[0mtime\u001b[0m\u001b[0;34m+\u001b[0m\u001b[0mpd\u001b[0m\u001b[0;34m.\u001b[0m\u001b[0mTimedelta\u001b[0m\u001b[0;34m(\u001b[0m\u001b[0mdays\u001b[0m\u001b[0;34m=\u001b[0m\u001b[0;36m7\u001b[0m\u001b[0;34m*\u001b[0m\u001b[0mi\u001b[0m\u001b[0;34m,\u001b[0m \u001b[0mhours\u001b[0m\u001b[0;34m=\u001b[0m\u001b[0;36m16\u001b[0m\u001b[0;34m*\u001b[0m\u001b[0mi\u001b[0m\u001b[0;34m)\u001b[0m\u001b[0;34m]\u001b[0m\u001b[0;34m[\u001b[0m\u001b[0;34m:\u001b[0m\u001b[0;34m-\u001b[0m\u001b[0;36m2\u001b[0m\u001b[0;34m]\u001b[0m\u001b[0;34m)\u001b[0m\u001b[0;34m\u001b[0m\u001b[0m\n\u001b[0m\u001b[1;32m     11\u001b[0m         \u001b[0;32melse\u001b[0m\u001b[0;34m:\u001b[0m\u001b[0;34m\u001b[0m\u001b[0m\n\u001b[1;32m     12\u001b[0m             \u001b[0mans\u001b[0m\u001b[0;34m.\u001b[0m\u001b[0mextend\u001b[0m\u001b[0;34m(\u001b[0m\u001b[0mindat\u001b[0m\u001b[0;34m.\u001b[0m\u001b[0mloc\u001b[0m\u001b[0;34m[\u001b[0m\u001b[0mtime\u001b[0m\u001b[0;34m+\u001b[0m\u001b[0mpd\u001b[0m\u001b[0;34m.\u001b[0m\u001b[0mTimedelta\u001b[0m\u001b[0;34m(\u001b[0m\u001b[0mdays\u001b[0m\u001b[0;34m=\u001b[0m\u001b[0;36m7\u001b[0m\u001b[0;34m*\u001b[0m\u001b[0mi\u001b[0m\u001b[0;34m,\u001b[0m \u001b[0mhours\u001b[0m\u001b[0;34m=\u001b[0m\u001b[0;36m16\u001b[0m\u001b[0;34m*\u001b[0m\u001b[0mi\u001b[0m\u001b[0;34m)\u001b[0m\u001b[0;34m]\u001b[0m\u001b[0;34m)\u001b[0m\u001b[0;34m\u001b[0m\u001b[0m\n",
      "\u001b[0;32m~/miniconda3/lib/python3.7/site-packages/pandas/core/indexing.py\u001b[0m in \u001b[0;36m__getitem__\u001b[0;34m(self, key)\u001b[0m\n\u001b[1;32m   1476\u001b[0m \u001b[0;34m\u001b[0m\u001b[0m\n\u001b[1;32m   1477\u001b[0m             \u001b[0mmaybe_callable\u001b[0m \u001b[0;34m=\u001b[0m \u001b[0mcom\u001b[0m\u001b[0;34m.\u001b[0m\u001b[0m_apply_if_callable\u001b[0m\u001b[0;34m(\u001b[0m\u001b[0mkey\u001b[0m\u001b[0;34m,\u001b[0m \u001b[0mself\u001b[0m\u001b[0;34m.\u001b[0m\u001b[0mobj\u001b[0m\u001b[0;34m)\u001b[0m\u001b[0;34m\u001b[0m\u001b[0m\n\u001b[0;32m-> 1478\u001b[0;31m             \u001b[0;32mreturn\u001b[0m \u001b[0mself\u001b[0m\u001b[0;34m.\u001b[0m\u001b[0m_getitem_axis\u001b[0m\u001b[0;34m(\u001b[0m\u001b[0mmaybe_callable\u001b[0m\u001b[0;34m,\u001b[0m \u001b[0maxis\u001b[0m\u001b[0;34m=\u001b[0m\u001b[0maxis\u001b[0m\u001b[0;34m)\u001b[0m\u001b[0;34m\u001b[0m\u001b[0m\n\u001b[0m\u001b[1;32m   1479\u001b[0m \u001b[0;34m\u001b[0m\u001b[0m\n\u001b[1;32m   1480\u001b[0m     \u001b[0;32mdef\u001b[0m \u001b[0m_is_scalar_access\u001b[0m\u001b[0;34m(\u001b[0m\u001b[0mself\u001b[0m\u001b[0;34m,\u001b[0m \u001b[0mkey\u001b[0m\u001b[0;34m)\u001b[0m\u001b[0;34m:\u001b[0m\u001b[0;34m\u001b[0m\u001b[0m\n",
      "\u001b[0;32m~/miniconda3/lib/python3.7/site-packages/pandas/core/indexing.py\u001b[0m in \u001b[0;36m_getitem_axis\u001b[0;34m(self, key, axis)\u001b[0m\n\u001b[1;32m   1909\u001b[0m \u001b[0;34m\u001b[0m\u001b[0m\n\u001b[1;32m   1910\u001b[0m         \u001b[0;31m# fall thru to straight lookup\u001b[0m\u001b[0;34m\u001b[0m\u001b[0;34m\u001b[0m\u001b[0m\n\u001b[0;32m-> 1911\u001b[0;31m         \u001b[0mself\u001b[0m\u001b[0;34m.\u001b[0m\u001b[0m_validate_key\u001b[0m\u001b[0;34m(\u001b[0m\u001b[0mkey\u001b[0m\u001b[0;34m,\u001b[0m \u001b[0maxis\u001b[0m\u001b[0;34m)\u001b[0m\u001b[0;34m\u001b[0m\u001b[0m\n\u001b[0m\u001b[1;32m   1912\u001b[0m         \u001b[0;32mreturn\u001b[0m \u001b[0mself\u001b[0m\u001b[0;34m.\u001b[0m\u001b[0m_get_label\u001b[0m\u001b[0;34m(\u001b[0m\u001b[0mkey\u001b[0m\u001b[0;34m,\u001b[0m \u001b[0maxis\u001b[0m\u001b[0;34m=\u001b[0m\u001b[0maxis\u001b[0m\u001b[0;34m)\u001b[0m\u001b[0;34m\u001b[0m\u001b[0m\n\u001b[1;32m   1913\u001b[0m \u001b[0;34m\u001b[0m\u001b[0m\n",
      "\u001b[0;32m~/miniconda3/lib/python3.7/site-packages/pandas/core/indexing.py\u001b[0m in \u001b[0;36m_validate_key\u001b[0;34m(self, key, axis)\u001b[0m\n\u001b[1;32m   1796\u001b[0m                 \u001b[0;32mraise\u001b[0m\u001b[0;34m\u001b[0m\u001b[0m\n\u001b[1;32m   1797\u001b[0m             \u001b[0;32mexcept\u001b[0m\u001b[0;34m:\u001b[0m\u001b[0;34m\u001b[0m\u001b[0m\n\u001b[0;32m-> 1798\u001b[0;31m                 \u001b[0merror\u001b[0m\u001b[0;34m(\u001b[0m\u001b[0;34m)\u001b[0m\u001b[0;34m\u001b[0m\u001b[0m\n\u001b[0m\u001b[1;32m   1799\u001b[0m \u001b[0;34m\u001b[0m\u001b[0m\n\u001b[1;32m   1800\u001b[0m     \u001b[0;32mdef\u001b[0m \u001b[0m_is_scalar_access\u001b[0m\u001b[0;34m(\u001b[0m\u001b[0mself\u001b[0m\u001b[0;34m,\u001b[0m \u001b[0mkey\u001b[0m\u001b[0;34m)\u001b[0m\u001b[0;34m:\u001b[0m\u001b[0;34m\u001b[0m\u001b[0m\n",
      "\u001b[0;32m~/miniconda3/lib/python3.7/site-packages/pandas/core/indexing.py\u001b[0m in \u001b[0;36merror\u001b[0;34m()\u001b[0m\n\u001b[1;32m   1783\u001b[0m                 raise KeyError(u\"the label [{key}] is not in the [{axis}]\"\n\u001b[1;32m   1784\u001b[0m                                .format(key=key,\n\u001b[0;32m-> 1785\u001b[0;31m                                        axis=self.obj._get_axis_name(axis)))\n\u001b[0m\u001b[1;32m   1786\u001b[0m \u001b[0;34m\u001b[0m\u001b[0m\n\u001b[1;32m   1787\u001b[0m             \u001b[0;32mtry\u001b[0m\u001b[0;34m:\u001b[0m\u001b[0;34m\u001b[0m\u001b[0m\n",
      "\u001b[0;31mKeyError\u001b[0m: 'the label [2002-04-20 16:00:00] is not in the [index]'"
     ]
    }
   ],
   "source": [
    "event_data = {}\n",
    "for ii, e in enumerate(tqdm.tqdm_notebook(events)):\n",
    "    event_data[e] = {}\n",
    "    for k in omni_data:\n",
    "        event_data[e][k] = build_data_from_vector(omni_data[k], e)\n",
    "        event_data[e]['vectors_Log_Flux_std'] = build_data_from_vector(vectors_Log_Flux_std, e, CXD_std=True)\n",
    "        event_data[e]['vectors_Log_Flux'] = build_data_from_vector(vectors_Log_Flux, e)\n",
    "        "
   ]
  },
  {
   "cell_type": "code",
   "execution_count": null,
   "metadata": {},
   "outputs": [],
   "source": [
    "tb.dictree(event_data, levels=2\n",
    "          )"
   ]
  },
  {
   "cell_type": "code",
   "execution_count": null,
   "metadata": {},
   "outputs": [],
   "source": []
  },
  {
   "cell_type": "code",
   "execution_count": null,
   "metadata": {},
   "outputs": [],
   "source": []
  },
  {
   "cell_type": "code",
   "execution_count": null,
   "metadata": {},
   "outputs": [],
   "source": []
  },
  {
   "cell_type": "code",
   "execution_count": null,
   "metadata": {},
   "outputs": [],
   "source": []
  }
 ],
 "metadata": {
  "kernelspec": {
   "display_name": "Python 3",
   "language": "python",
   "name": "python3"
  },
  "language_info": {
   "codemirror_mode": {
    "name": "ipython",
    "version": 3
   },
   "file_extension": ".py",
   "mimetype": "text/x-python",
   "name": "python",
   "nbconvert_exporter": "python",
   "pygments_lexer": "ipython3",
   "version": "3.7.0"
  }
 },
 "nbformat": 4,
 "nbformat_minor": 2
}
